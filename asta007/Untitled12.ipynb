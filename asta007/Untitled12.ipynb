{
 "cells": [
  {
   "cell_type": "code",
   "execution_count": 1,
   "metadata": {},
   "outputs": [],
   "source": [
    "from os import listdir\n",
    "from os.path import isfile, join\n",
    "import pandas as pd\n",
    "\n",
    "path_base_original_real=\"C:\\dataset\\original_dataset\\\\real\"\n",
    "path_base_original_fake=\"C:\\dataset\\original_dataset\\\\fake\"\n",
    "fullpath_fake=path_base_original_fake+\"\\\\fake.csv\"\n",
    "path_base_modified=\"C:\\dataset\\processed_datatset\"\n",
    "fullpath_modified=path_base_modified+\"\\\\total_dataset.csv\"\n",
    "path_modified_onlyreal=path_base_modified+\"\\\\real_dataset.csv\"\n",
    "path_modified_onlyfake=path_base_modified+\"\\\\fake_dataset.csv\""
   ]
  },
  {
   "cell_type": "code",
   "execution_count": 2,
   "metadata": {},
   "outputs": [],
   "source": [
    "from nltk.tokenize import word_tokenize\n",
    "import re \n",
    "import nltk\n",
    "# nltk.download('stopwords')\n",
    "from nltk.corpus import stopwords \n",
    "from nltk.stem.porter import PorterStemmer\n",
    "from gensim.models import word2vec\n",
    "from nltk.stem import WordNetLemmatizer \n",
    "lemmatizer = WordNetLemmatizer() \n",
    "# nltk.download('wordnet')"
   ]
  },
  {
   "cell_type": "code",
   "execution_count": 3,
   "metadata": {},
   "outputs": [],
   "source": [
    "def cleaningbody(txt):\n",
    "#     review = txt.split()\n",
    "    review = re.sub('[^a-zA-Z]', ' ', txt) # Cleans all except characters\n",
    "    review = review.lower()\n",
    "    review=word_tokenize(review)\n",
    "#     review = review.split()\n",
    "    review = [ lemmatizer.lemmatize(word) for word in review if not word in set(stopwords.words('english'))  if len(word)>=3  ]\n",
    "#     if review.size()<\n",
    "#     ps = PorterStemmer()\n",
    "#     review = [ps.stem(word) for word in review if not word in set(stopwords.words('english'))]\n",
    "    if len(review)<30:\n",
    "        return None\n",
    "    return review"
   ]
  },
  {
   "cell_type": "code",
   "execution_count": 4,
   "metadata": {},
   "outputs": [
    {
     "data": {
      "text/html": [
       "<div>\n",
       "<style scoped>\n",
       "    .dataframe tbody tr th:only-of-type {\n",
       "        vertical-align: middle;\n",
       "    }\n",
       "\n",
       "    .dataframe tbody tr th {\n",
       "        vertical-align: top;\n",
       "    }\n",
       "\n",
       "    .dataframe thead th {\n",
       "        text-align: right;\n",
       "    }\n",
       "</style>\n",
       "<table border=\"1\" class=\"dataframe\">\n",
       "  <thead>\n",
       "    <tr style=\"text-align: right;\">\n",
       "      <th></th>\n",
       "      <th>content</th>\n",
       "    </tr>\n",
       "  </thead>\n",
       "  <tbody>\n",
       "    <tr>\n",
       "      <td>16334</td>\n",
       "      <td>Former Secretary of State Hillary Clinton is s...</td>\n",
       "    </tr>\n",
       "    <tr>\n",
       "      <td>50960</td>\n",
       "      <td>Why the Planet Earth II Episode on Cities Is S...</td>\n",
       "    </tr>\n",
       "    <tr>\n",
       "      <td>125332</td>\n",
       "      <td>Philadelphia Federal Reserve President Patric...</td>\n",
       "    </tr>\n",
       "    <tr>\n",
       "      <td>65069</td>\n",
       "      <td>Republican presidential candidate Donald Trump...</td>\n",
       "    </tr>\n",
       "    <tr>\n",
       "      <td>35681</td>\n",
       "      <td>(CNN) Actor Anton Yelchin, 27, who played Che...</td>\n",
       "    </tr>\n",
       "    <tr>\n",
       "      <td>...</td>\n",
       "      <td>...</td>\n",
       "    </tr>\n",
       "    <tr>\n",
       "      <td>19834</td>\n",
       "      <td>Thursday in Indianapolis, IN at the Carrier fa...</td>\n",
       "    </tr>\n",
       "    <tr>\n",
       "      <td>45370</td>\n",
       "      <td>’  mogul Donald Trump said on Saturday that No...</td>\n",
       "    </tr>\n",
       "    <tr>\n",
       "      <td>1821</td>\n",
       "      <td>The magician Derek DelGaudio sat in a Hollywoo...</td>\n",
       "    </tr>\n",
       "    <tr>\n",
       "      <td>176</td>\n",
       "      <td>LOS ANGELES  —   It was a surprise photo finis...</td>\n",
       "    </tr>\n",
       "    <tr>\n",
       "      <td>100197</td>\n",
       "      <td>They are a particularly tough audience  —   pi...</td>\n",
       "    </tr>\n",
       "  </tbody>\n",
       "</table>\n",
       "<p>3000 rows × 1 columns</p>\n",
       "</div>"
      ],
      "text/plain": [
       "                                                  content\n",
       "16334   Former Secretary of State Hillary Clinton is s...\n",
       "50960   Why the Planet Earth II Episode on Cities Is S...\n",
       "125332   Philadelphia Federal Reserve President Patric...\n",
       "65069   Republican presidential candidate Donald Trump...\n",
       "35681    (CNN) Actor Anton Yelchin, 27, who played Che...\n",
       "...                                                   ...\n",
       "19834   Thursday in Indianapolis, IN at the Carrier fa...\n",
       "45370   ’  mogul Donald Trump said on Saturday that No...\n",
       "1821    The magician Derek DelGaudio sat in a Hollywoo...\n",
       "176     LOS ANGELES  —   It was a surprise photo finis...\n",
       "100197  They are a particularly tough audience  —   pi...\n",
       "\n",
       "[3000 rows x 1 columns]"
      ]
     },
     "execution_count": 4,
     "metadata": {},
     "output_type": "execute_result"
    }
   ],
   "source": [
    "path_base=\"C:\\dataset\"\n",
    "# path_modified_onlyreal\n",
    "smallerset_real=path_base+\"\\\\smallerset_real_09.csv\"\n",
    "df_real=pd.read_csv(path_modified_onlyreal ,usecols=[1])\n",
    "df_real_sample =df_real.sample(n=3000)\n",
    "df_real_sample.dropna()\n",
    "# df_real_sample['content'] = df_real_sample['content'].apply(lambda x: cleaningbody(x))\n",
    "df_real_sample.dropna()\n",
    "# df_real_sample.to_csv(smallerset_real,index=False,encoding=\"utf8\")"
   ]
  },
  {
   "cell_type": "code",
   "execution_count": 5,
   "metadata": {},
   "outputs": [
    {
     "name": "stdout",
     "output_type": "stream",
     "text": [
      "(3000, 1)\n"
     ]
    },
    {
     "data": {
      "text/plain": [
       "0"
      ]
     },
     "execution_count": 5,
     "metadata": {},
     "output_type": "execute_result"
    }
   ],
   "source": [
    "print(df_real_sample.shape)\n",
    "df_real_sample.isnull().sum().sum()"
   ]
  },
  {
   "cell_type": "code",
   "execution_count": 6,
   "metadata": {},
   "outputs": [
    {
     "data": {
      "text/html": [
       "<div>\n",
       "<style scoped>\n",
       "    .dataframe tbody tr th:only-of-type {\n",
       "        vertical-align: middle;\n",
       "    }\n",
       "\n",
       "    .dataframe tbody tr th {\n",
       "        vertical-align: top;\n",
       "    }\n",
       "\n",
       "    .dataframe thead th {\n",
       "        text-align: right;\n",
       "    }\n",
       "</style>\n",
       "<table border=\"1\" class=\"dataframe\">\n",
       "  <thead>\n",
       "    <tr style=\"text-align: right;\">\n",
       "      <th></th>\n",
       "      <th>content</th>\n",
       "    </tr>\n",
       "  </thead>\n",
       "  <tbody>\n",
       "  </tbody>\n",
       "</table>\n",
       "</div>"
      ],
      "text/plain": [
       "Empty DataFrame\n",
       "Columns: [content]\n",
       "Index: []"
      ]
     },
     "execution_count": 6,
     "metadata": {},
     "output_type": "execute_result"
    }
   ],
   "source": [
    "bool_have_null =pd.isnull(df_real_sample['content'])\n",
    "df_real_sample[bool_have_null]"
   ]
  },
  {
   "cell_type": "code",
   "execution_count": 7,
   "metadata": {},
   "outputs": [
    {
     "data": {
      "text/html": [
       "<div>\n",
       "<style scoped>\n",
       "    .dataframe tbody tr th:only-of-type {\n",
       "        vertical-align: middle;\n",
       "    }\n",
       "\n",
       "    .dataframe tbody tr th {\n",
       "        vertical-align: top;\n",
       "    }\n",
       "\n",
       "    .dataframe thead th {\n",
       "        text-align: right;\n",
       "    }\n",
       "</style>\n",
       "<table border=\"1\" class=\"dataframe\">\n",
       "  <thead>\n",
       "    <tr style=\"text-align: right;\">\n",
       "      <th></th>\n",
       "      <th>content</th>\n",
       "    </tr>\n",
       "  </thead>\n",
       "  <tbody>\n",
       "    <tr>\n",
       "      <td>16334</td>\n",
       "      <td>Former Secretary of State Hillary Clinton is s...</td>\n",
       "    </tr>\n",
       "    <tr>\n",
       "      <td>50960</td>\n",
       "      <td>Why the Planet Earth II Episode on Cities Is S...</td>\n",
       "    </tr>\n",
       "    <tr>\n",
       "      <td>125332</td>\n",
       "      <td>Philadelphia Federal Reserve President Patric...</td>\n",
       "    </tr>\n",
       "    <tr>\n",
       "      <td>65069</td>\n",
       "      <td>Republican presidential candidate Donald Trump...</td>\n",
       "    </tr>\n",
       "    <tr>\n",
       "      <td>35681</td>\n",
       "      <td>(CNN) Actor Anton Yelchin, 27, who played Che...</td>\n",
       "    </tr>\n",
       "    <tr>\n",
       "      <td>...</td>\n",
       "      <td>...</td>\n",
       "    </tr>\n",
       "    <tr>\n",
       "      <td>19834</td>\n",
       "      <td>Thursday in Indianapolis, IN at the Carrier fa...</td>\n",
       "    </tr>\n",
       "    <tr>\n",
       "      <td>45370</td>\n",
       "      <td>’  mogul Donald Trump said on Saturday that No...</td>\n",
       "    </tr>\n",
       "    <tr>\n",
       "      <td>1821</td>\n",
       "      <td>The magician Derek DelGaudio sat in a Hollywoo...</td>\n",
       "    </tr>\n",
       "    <tr>\n",
       "      <td>176</td>\n",
       "      <td>LOS ANGELES  —   It was a surprise photo finis...</td>\n",
       "    </tr>\n",
       "    <tr>\n",
       "      <td>100197</td>\n",
       "      <td>They are a particularly tough audience  —   pi...</td>\n",
       "    </tr>\n",
       "  </tbody>\n",
       "</table>\n",
       "<p>3000 rows × 1 columns</p>\n",
       "</div>"
      ],
      "text/plain": [
       "                                                  content\n",
       "16334   Former Secretary of State Hillary Clinton is s...\n",
       "50960   Why the Planet Earth II Episode on Cities Is S...\n",
       "125332   Philadelphia Federal Reserve President Patric...\n",
       "65069   Republican presidential candidate Donald Trump...\n",
       "35681    (CNN) Actor Anton Yelchin, 27, who played Che...\n",
       "...                                                   ...\n",
       "19834   Thursday in Indianapolis, IN at the Carrier fa...\n",
       "45370   ’  mogul Donald Trump said on Saturday that No...\n",
       "1821    The magician Derek DelGaudio sat in a Hollywoo...\n",
       "176     LOS ANGELES  —   It was a surprise photo finis...\n",
       "100197  They are a particularly tough audience  —   pi...\n",
       "\n",
       "[3000 rows x 1 columns]"
      ]
     },
     "execution_count": 7,
     "metadata": {},
     "output_type": "execute_result"
    }
   ],
   "source": [
    "df_real_sample.dropna(inplace=True)\n",
    "df_real_sample"
   ]
  },
  {
   "cell_type": "code",
   "execution_count": 8,
   "metadata": {},
   "outputs": [
    {
     "data": {
      "text/html": [
       "<div>\n",
       "<style scoped>\n",
       "    .dataframe tbody tr th:only-of-type {\n",
       "        vertical-align: middle;\n",
       "    }\n",
       "\n",
       "    .dataframe tbody tr th {\n",
       "        vertical-align: top;\n",
       "    }\n",
       "\n",
       "    .dataframe thead th {\n",
       "        text-align: right;\n",
       "    }\n",
       "</style>\n",
       "<table border=\"1\" class=\"dataframe\">\n",
       "  <thead>\n",
       "    <tr style=\"text-align: right;\">\n",
       "      <th></th>\n",
       "      <th>content</th>\n",
       "    </tr>\n",
       "  </thead>\n",
       "  <tbody>\n",
       "  </tbody>\n",
       "</table>\n",
       "</div>"
      ],
      "text/plain": [
       "Empty DataFrame\n",
       "Columns: [content]\n",
       "Index: []"
      ]
     },
     "execution_count": 8,
     "metadata": {},
     "output_type": "execute_result"
    }
   ],
   "source": [
    "bool_have_null =pd.isnull(df_real_sample['content'])\n",
    "df_real_sample[bool_have_null]"
   ]
  },
  {
   "cell_type": "code",
   "execution_count": null,
   "metadata": {},
   "outputs": [],
   "source": []
  },
  {
   "cell_type": "code",
   "execution_count": null,
   "metadata": {},
   "outputs": [],
   "source": []
  },
  {
   "cell_type": "code",
   "execution_count": null,
   "metadata": {},
   "outputs": [],
   "source": []
  },
  {
   "cell_type": "code",
   "execution_count": null,
   "metadata": {},
   "outputs": [],
   "source": []
  },
  {
   "cell_type": "code",
   "execution_count": null,
   "metadata": {},
   "outputs": [],
   "source": []
  },
  {
   "cell_type": "code",
   "execution_count": 9,
   "metadata": {},
   "outputs": [],
   "source": [
    "#path_modified_onlyfake\n",
    "smallerset_fake=path_base+\"\\\\smallerset_fake_09.csv\"\n",
    "df_fake=pd.read_csv(path_modified_onlyfake,usecols=[1])\n",
    "df_fake_sample =df_real.sample(n=3000)\n",
    "df_fake_sample.dropna(inplace=True)\n",
    "# df_fake_sample['content'] = df_fake_sample['content'].apply(lambda x: cleaningbody(x))\n",
    "df_fake_sample.dropna(inplace=True)\n",
    "# df_fake_sample.to_csv(smallerset_fake,index=False,encoding=\"utf8\")"
   ]
  },
  {
   "cell_type": "code",
   "execution_count": null,
   "metadata": {},
   "outputs": [],
   "source": []
  },
  {
   "cell_type": "code",
   "execution_count": 10,
   "metadata": {},
   "outputs": [
    {
     "data": {
      "text/plain": [
       "(3000, 1)"
      ]
     },
     "execution_count": 10,
     "metadata": {},
     "output_type": "execute_result"
    }
   ],
   "source": [
    "df_fake_sample.shape"
   ]
  },
  {
   "cell_type": "code",
   "execution_count": 11,
   "metadata": {},
   "outputs": [
    {
     "data": {
      "text/plain": [
       "0"
      ]
     },
     "execution_count": 11,
     "metadata": {},
     "output_type": "execute_result"
    }
   ],
   "source": [
    "df_fake_sample.isnull().sum().sum()"
   ]
  },
  {
   "cell_type": "code",
   "execution_count": 12,
   "metadata": {},
   "outputs": [
    {
     "data": {
      "text/html": [
       "<div>\n",
       "<style scoped>\n",
       "    .dataframe tbody tr th:only-of-type {\n",
       "        vertical-align: middle;\n",
       "    }\n",
       "\n",
       "    .dataframe tbody tr th {\n",
       "        vertical-align: top;\n",
       "    }\n",
       "\n",
       "    .dataframe thead th {\n",
       "        text-align: right;\n",
       "    }\n",
       "</style>\n",
       "<table border=\"1\" class=\"dataframe\">\n",
       "  <thead>\n",
       "    <tr style=\"text-align: right;\">\n",
       "      <th></th>\n",
       "      <th>content</th>\n",
       "    </tr>\n",
       "  </thead>\n",
       "  <tbody>\n",
       "  </tbody>\n",
       "</table>\n",
       "</div>"
      ],
      "text/plain": [
       "Empty DataFrame\n",
       "Columns: [content]\n",
       "Index: []"
      ]
     },
     "execution_count": 12,
     "metadata": {},
     "output_type": "execute_result"
    }
   ],
   "source": [
    "bool_have_null =pd.isnull(df_fake_sample['content'])\n",
    "df_fake_sample[bool_have_null]"
   ]
  },
  {
   "cell_type": "code",
   "execution_count": 13,
   "metadata": {},
   "outputs": [
    {
     "data": {
      "text/html": [
       "<div>\n",
       "<style scoped>\n",
       "    .dataframe tbody tr th:only-of-type {\n",
       "        vertical-align: middle;\n",
       "    }\n",
       "\n",
       "    .dataframe tbody tr th {\n",
       "        vertical-align: top;\n",
       "    }\n",
       "\n",
       "    .dataframe thead th {\n",
       "        text-align: right;\n",
       "    }\n",
       "</style>\n",
       "<table border=\"1\" class=\"dataframe\">\n",
       "  <thead>\n",
       "    <tr style=\"text-align: right;\">\n",
       "      <th></th>\n",
       "      <th>content</th>\n",
       "    </tr>\n",
       "  </thead>\n",
       "  <tbody>\n",
       "    <tr>\n",
       "      <td>96998</td>\n",
       "      <td>As the wheels of Trumplandia continue to spin,...</td>\n",
       "    </tr>\n",
       "    <tr>\n",
       "      <td>62758</td>\n",
       "      <td>Four weeks after a TV appearance by a former O...</td>\n",
       "    </tr>\n",
       "    <tr>\n",
       "      <td>13908</td>\n",
       "      <td>NEW YORK (AP)  —   You’d think Twitter would b...</td>\n",
       "    </tr>\n",
       "    <tr>\n",
       "      <td>93078</td>\n",
       "      <td>KISSIMMEE, Fla.  —   Former Seattle Seahawks q...</td>\n",
       "    </tr>\n",
       "    <tr>\n",
       "      <td>94310</td>\n",
       "      <td>Wells Fargo said Tuesday it would eliminate al...</td>\n",
       "    </tr>\n",
       "    <tr>\n",
       "      <td>...</td>\n",
       "      <td>...</td>\n",
       "    </tr>\n",
       "    <tr>\n",
       "      <td>30100</td>\n",
       "      <td>Hurricane Matthew could leave up to seven mill...</td>\n",
       "    </tr>\n",
       "    <tr>\n",
       "      <td>47747</td>\n",
       "      <td>’  ’ ”   When   app  made its Austin debut bef...</td>\n",
       "    </tr>\n",
       "    <tr>\n",
       "      <td>130652</td>\n",
       "      <td>Since the 1990s, crime rates in the US have p...</td>\n",
       "    </tr>\n",
       "    <tr>\n",
       "      <td>37576</td>\n",
       "      <td>Istanbul (CNN) Turkey has suspended thousands ...</td>\n",
       "    </tr>\n",
       "    <tr>\n",
       "      <td>16359</td>\n",
       "      <td>Welcome to Breitbart News’s live updates of th...</td>\n",
       "    </tr>\n",
       "  </tbody>\n",
       "</table>\n",
       "<p>3000 rows × 1 columns</p>\n",
       "</div>"
      ],
      "text/plain": [
       "                                                  content\n",
       "96998   As the wheels of Trumplandia continue to spin,...\n",
       "62758   Four weeks after a TV appearance by a former O...\n",
       "13908   NEW YORK (AP)  —   You’d think Twitter would b...\n",
       "93078   KISSIMMEE, Fla.  —   Former Seattle Seahawks q...\n",
       "94310   Wells Fargo said Tuesday it would eliminate al...\n",
       "...                                                   ...\n",
       "30100   Hurricane Matthew could leave up to seven mill...\n",
       "47747   ’  ’ ”   When   app  made its Austin debut bef...\n",
       "130652   Since the 1990s, crime rates in the US have p...\n",
       "37576   Istanbul (CNN) Turkey has suspended thousands ...\n",
       "16359   Welcome to Breitbart News’s live updates of th...\n",
       "\n",
       "[3000 rows x 1 columns]"
      ]
     },
     "execution_count": 13,
     "metadata": {},
     "output_type": "execute_result"
    }
   ],
   "source": [
    "df_fake_sample.dropna(inplace=True)\n",
    "df_fake_sample"
   ]
  },
  {
   "cell_type": "code",
   "execution_count": 14,
   "metadata": {},
   "outputs": [],
   "source": [
    "df_real_sample['content'] =[  ' '.join(l)  for l in df_real_sample['content'] ]\n",
    "df_fake_sample['content'] =[  ' '.join(l)  for l in df_fake_sample['content'] ]"
   ]
  },
  {
   "cell_type": "code",
   "execution_count": 15,
   "metadata": {},
   "outputs": [],
   "source": [
    "df_real_sample.to_csv(smallerset_real,index=False,encoding=\"utf8\")\n",
    "df_fake_sample.to_csv(smallerset_fake,index=False,encoding=\"utf8\")"
   ]
  },
  {
   "cell_type": "code",
   "execution_count": 16,
   "metadata": {},
   "outputs": [],
   "source": [
    "df_real_sample['label']=1\n",
    "df_fake_sample['label']=0\n",
    "df=pd.concat([df_real_sample,df_fake_sample])\n",
    "df.sample(frac=1)\n",
    "y=df.label\n",
    "df=df.drop('label',axis=1)"
   ]
  },
  {
   "cell_type": "code",
   "execution_count": null,
   "metadata": {},
   "outputs": [],
   "source": []
  },
  {
   "cell_type": "code",
   "execution_count": 17,
   "metadata": {},
   "outputs": [],
   "source": [
    "from sklearn.model_selection import train_test_split\n",
    "\n",
    "from sklearn.feature_extraction.text import CountVectorizer\n",
    "from sklearn.feature_extraction.text import TfidfVectorizer\n",
    "from sklearn.feature_extraction.text import HashingVectorizer\n",
    "\n",
    "from sklearn.naive_bayes import MultinomialNB\n",
    "from sklearn import svm\n",
    "from sklearn.naive_bayes import GaussianNB\n",
    "\n",
    "from sklearn import metrics\n",
    "\n"
   ]
  },
  {
   "cell_type": "code",
   "execution_count": 21,
   "metadata": {},
   "outputs": [
    {
     "data": {
      "text/html": [
       "<div>\n",
       "<style scoped>\n",
       "    .dataframe tbody tr th:only-of-type {\n",
       "        vertical-align: middle;\n",
       "    }\n",
       "\n",
       "    .dataframe tbody tr th {\n",
       "        vertical-align: top;\n",
       "    }\n",
       "\n",
       "    .dataframe thead th {\n",
       "        text-align: right;\n",
       "    }\n",
       "</style>\n",
       "<table border=\"1\" class=\"dataframe\">\n",
       "  <thead>\n",
       "    <tr style=\"text-align: right;\">\n",
       "      <th></th>\n",
       "      <th>content</th>\n",
       "    </tr>\n",
       "  </thead>\n",
       "  <tbody>\n",
       "  </tbody>\n",
       "</table>\n",
       "</div>"
      ],
      "text/plain": [
       "Empty DataFrame\n",
       "Columns: [content]\n",
       "Index: []"
      ]
     },
     "execution_count": 21,
     "metadata": {},
     "output_type": "execute_result"
    }
   ],
   "source": [
    "bool_have_null =pd.isnull(df['content'])\n",
    "df[bool_have_null]"
   ]
  },
  {
   "cell_type": "code",
   "execution_count": 19,
   "metadata": {},
   "outputs": [],
   "source": [
    "xtrain,xtest,ytrain,ytest= train_test_split(df['content'],y,test_size=0.33,random_state=53)"
   ]
  },
  {
   "cell_type": "code",
   "execution_count": 20,
   "metadata": {},
   "outputs": [
    {
     "ename": "ValueError",
     "evalue": "empty vocabulary; perhaps the documents only contain stop words",
     "output_type": "error",
     "traceback": [
      "\u001b[1;31m---------------------------------------------------------------------------\u001b[0m",
      "\u001b[1;31mValueError\u001b[0m                                Traceback (most recent call last)",
      "\u001b[1;32m<ipython-input-20-3e1309142a63>\u001b[0m in \u001b[0;36m<module>\u001b[1;34m\u001b[0m\n\u001b[0;32m      1\u001b[0m \u001b[0mcountvectorizer\u001b[0m \u001b[1;33m=\u001b[0m\u001b[0mCountVectorizer\u001b[0m\u001b[1;33m(\u001b[0m\u001b[0mstop_words\u001b[0m\u001b[1;33m=\u001b[0m\u001b[1;34m'english'\u001b[0m \u001b[1;33m)\u001b[0m\u001b[1;33m\u001b[0m\u001b[1;33m\u001b[0m\u001b[0m\n\u001b[1;32m----> 2\u001b[1;33m \u001b[0mctrainx\u001b[0m\u001b[1;33m=\u001b[0m\u001b[0mcountvectorizer\u001b[0m\u001b[1;33m.\u001b[0m\u001b[0mfit_transform\u001b[0m\u001b[1;33m(\u001b[0m\u001b[0mxtrain\u001b[0m\u001b[1;33m)\u001b[0m\u001b[1;33m\u001b[0m\u001b[1;33m\u001b[0m\u001b[0m\n\u001b[0m\u001b[0;32m      3\u001b[0m \u001b[0mctestx\u001b[0m\u001b[1;33m=\u001b[0m\u001b[0mcountvectorizer\u001b[0m\u001b[1;33m.\u001b[0m\u001b[0mtransform\u001b[0m\u001b[1;33m(\u001b[0m\u001b[0mxtest\u001b[0m\u001b[1;33m)\u001b[0m\u001b[1;33m\u001b[0m\u001b[1;33m\u001b[0m\u001b[0m\n\u001b[0;32m      4\u001b[0m \u001b[0mprint\u001b[0m\u001b[1;33m(\u001b[0m\u001b[0mctrainx\u001b[0m\u001b[1;33m.\u001b[0m\u001b[0mshape\u001b[0m\u001b[1;33m)\u001b[0m\u001b[1;33m\u001b[0m\u001b[1;33m\u001b[0m\u001b[0m\n\u001b[0;32m      5\u001b[0m \u001b[0mprint\u001b[0m\u001b[1;33m(\u001b[0m\u001b[0mctestx\u001b[0m\u001b[1;33m.\u001b[0m\u001b[0mshape\u001b[0m\u001b[1;33m)\u001b[0m\u001b[1;33m\u001b[0m\u001b[1;33m\u001b[0m\u001b[0m\n",
      "\u001b[1;32mD:\\SETUP_FILES_2\\Anaconda3\\lib\\site-packages\\sklearn\\feature_extraction\\text.py\u001b[0m in \u001b[0;36mfit_transform\u001b[1;34m(self, raw_documents, y)\u001b[0m\n\u001b[0;32m   1056\u001b[0m \u001b[1;33m\u001b[0m\u001b[0m\n\u001b[0;32m   1057\u001b[0m         vocabulary, X = self._count_vocab(raw_documents,\n\u001b[1;32m-> 1058\u001b[1;33m                                           self.fixed_vocabulary_)\n\u001b[0m\u001b[0;32m   1059\u001b[0m \u001b[1;33m\u001b[0m\u001b[0m\n\u001b[0;32m   1060\u001b[0m         \u001b[1;32mif\u001b[0m \u001b[0mself\u001b[0m\u001b[1;33m.\u001b[0m\u001b[0mbinary\u001b[0m\u001b[1;33m:\u001b[0m\u001b[1;33m\u001b[0m\u001b[1;33m\u001b[0m\u001b[0m\n",
      "\u001b[1;32mD:\\SETUP_FILES_2\\Anaconda3\\lib\\site-packages\\sklearn\\feature_extraction\\text.py\u001b[0m in \u001b[0;36m_count_vocab\u001b[1;34m(self, raw_documents, fixed_vocab)\u001b[0m\n\u001b[0;32m    987\u001b[0m             \u001b[0mvocabulary\u001b[0m \u001b[1;33m=\u001b[0m \u001b[0mdict\u001b[0m\u001b[1;33m(\u001b[0m\u001b[0mvocabulary\u001b[0m\u001b[1;33m)\u001b[0m\u001b[1;33m\u001b[0m\u001b[1;33m\u001b[0m\u001b[0m\n\u001b[0;32m    988\u001b[0m             \u001b[1;32mif\u001b[0m \u001b[1;32mnot\u001b[0m \u001b[0mvocabulary\u001b[0m\u001b[1;33m:\u001b[0m\u001b[1;33m\u001b[0m\u001b[1;33m\u001b[0m\u001b[0m\n\u001b[1;32m--> 989\u001b[1;33m                 raise ValueError(\"empty vocabulary; perhaps the documents only\"\n\u001b[0m\u001b[0;32m    990\u001b[0m                                  \" contain stop words\")\n\u001b[0;32m    991\u001b[0m \u001b[1;33m\u001b[0m\u001b[0m\n",
      "\u001b[1;31mValueError\u001b[0m: empty vocabulary; perhaps the documents only contain stop words"
     ]
    }
   ],
   "source": [
    "countvectorizer =CountVectorizer(stop_words='english' )\n",
    "ctrainx=countvectorizer.fit_transform(xtrain)\n",
    "ctestx=countvectorizer.transform(xtest)\n",
    "print(ctrainx.shape)\n",
    "print(ctestx.shape)"
   ]
  },
  {
   "cell_type": "code",
   "execution_count": 54,
   "metadata": {},
   "outputs": [
    {
     "name": "stdout",
     "output_type": "stream",
     "text": [
      "(5621, 8000)\n",
      "(296, 8000)\n"
     ]
    }
   ],
   "source": [
    "tfidf_vectorizer = TfidfVectorizer(stop_words='english', max_df=0.7 )\n",
    "ttrainx = tfidf_vectorizer.fit_transform(xtrain)\n",
    "ttestx = tfidf_vectorizer.transform(xtest)\n",
    "print(ttrainx.shape)\n",
    "print(ttestx.shape)"
   ]
  },
  {
   "cell_type": "code",
   "execution_count": null,
   "metadata": {},
   "outputs": [],
   "source": []
  },
  {
   "cell_type": "code",
   "execution_count": null,
   "metadata": {},
   "outputs": [],
   "source": []
  },
  {
   "cell_type": "code",
   "execution_count": 55,
   "metadata": {},
   "outputs": [
    {
     "data": {
      "text/plain": [
       "0.42567567567567566"
      ]
     },
     "execution_count": 55,
     "metadata": {},
     "output_type": "execute_result"
    }
   ],
   "source": [
    "# MultinomialNB    count vector\n",
    "classifier =MultinomialNB(alpha=0.03)\n",
    "classifier.fit(ctrainx,ytrain)\n",
    "ctestres=classifier.predict(ctestx)\n",
    "score =metrics.accuracy_score(ytest,ctestres)\n",
    "score"
   ]
  },
  {
   "cell_type": "code",
   "execution_count": 56,
   "metadata": {},
   "outputs": [
    {
     "data": {
      "text/plain": [
       "0.4527027027027027"
      ]
     },
     "execution_count": 56,
     "metadata": {},
     "output_type": "execute_result"
    }
   ],
   "source": [
    "# MultinomialNB    tfidf vector\n",
    "classifier =MultinomialNB(alpha=0.03)\n",
    "classifier.fit(ttrainx,ytrain)\n",
    "ttestres=classifier.predict(ttestx)\n",
    "score =metrics.accuracy_score(ytest,ttestres)\n",
    "score\n",
    "\n"
   ]
  },
  {
   "cell_type": "code",
   "execution_count": null,
   "metadata": {},
   "outputs": [],
   "source": []
  },
  {
   "cell_type": "code",
   "execution_count": 65,
   "metadata": {},
   "outputs": [],
   "source": [
    "# clf = svm.SVC(kernel='linear')\n",
    "# clf = svm.SVC(kernel='rbf' ,C=1 ,gamma=0.1)   # kernel='rbf'\n",
    "# clf = svm.SVC(kernel='sigmoid')   #sigmoid \n",
    "clf = svm.SVC(kernel='poly' ,degree=2 ,C=1 ,gamma=0.1)  #kernel  =poly\n",
    "clf.fit(ttrainx, ytrain)\n",
    "y_pred = clf.predict(ttestx)"
   ]
  },
  {
   "cell_type": "code",
   "execution_count": 66,
   "metadata": {},
   "outputs": [
    {
     "data": {
      "text/plain": [
       "0.5"
      ]
     },
     "execution_count": 66,
     "metadata": {},
     "output_type": "execute_result"
    }
   ],
   "source": [
    "score=metrics.accuracy_score(ytest,y_pred)\n",
    "score"
   ]
  },
  {
   "cell_type": "code",
   "execution_count": null,
   "metadata": {},
   "outputs": [],
   "source": []
  }
 ],
 "metadata": {
  "kernelspec": {
   "display_name": "Python 3",
   "language": "python",
   "name": "python3"
  },
  "language_info": {
   "codemirror_mode": {
    "name": "ipython",
    "version": 3
   },
   "file_extension": ".py",
   "mimetype": "text/x-python",
   "name": "python",
   "nbconvert_exporter": "python",
   "pygments_lexer": "ipython3",
   "version": "3.7.4"
  }
 },
 "nbformat": 4,
 "nbformat_minor": 4
}
