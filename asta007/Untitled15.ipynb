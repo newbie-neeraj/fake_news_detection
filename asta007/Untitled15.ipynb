{
 "cells": [
  {
   "cell_type": "code",
   "execution_count": 1,
   "metadata": {},
   "outputs": [],
   "source": [
    "from os import listdir\n",
    "from os.path import isfile, join\n",
    "import pandas as pd\n",
    "\n",
    "path_base_original_real=\"C:\\dataset\\original_dataset\\\\real\"\n",
    "path_base_original_fake=\"C:\\dataset\\original_dataset\\\\fake\"\n",
    "fullpath_fake=path_base_original_fake+\"\\\\fake.csv\"\n",
    "path_base_modified=\"C:\\dataset\\processed_datatset\"\n",
    "fullpath_modified=path_base_modified+\"\\\\total_dataset.csv\"\n",
    "path_modified_onlyreal=path_base_modified+\"\\\\real_dataset.csv\"\n",
    "path_modified_onlyfake=path_base_modified+\"\\\\fake_dataset.csv\""
   ]
  },
  {
   "cell_type": "code",
   "execution_count": 2,
   "metadata": {},
   "outputs": [],
   "source": [
    "from nltk.tokenize import word_tokenize\n",
    "import re \n",
    "import nltk\n",
    "# nltk.download('stopwords')\n",
    "from nltk.corpus import stopwords \n",
    "from nltk.stem.porter import PorterStemmer\n",
    "from gensim.models import word2vec\n",
    "from nltk.stem import WordNetLemmatizer \n",
    "lemmatizer = WordNetLemmatizer() \n",
    "# nltk.download('wordnet')"
   ]
  },
  {
   "cell_type": "code",
   "execution_count": 4,
   "metadata": {},
   "outputs": [
    {
     "name": "stdout",
     "output_type": "stream",
     "text": [
      "(142570, 3)\n",
      "(12273, 3)\n",
      "                                                    title  \\\n",
      "95125   The Taliban think McDonald’s is ‘tasteless and...   \n",
      "84128              The real reason Trump canned Jim Comey   \n",
      "122993  Commentary: Why the battle for Aleppo could de...   \n",
      "2993    I Used an Assault Rifle in the Army. I Don’t T...   \n",
      "102617  Harry Potter actor Rupert Grint loses £1m tax ...   \n",
      "\n",
      "                                                  content  label  \n",
      "95125   McDonald’s has a new    —   the Taliban. The  ...      1  \n",
      "84128   The straw that broke the camel’s back for   FB...      1  \n",
      "122993  If Wednesday’s ceasefire in Aleppo holds, it c...      1  \n",
      "2993    I was 19 the first time I held an assault rifl...      1  \n",
      "102617  Harry Potter star Rupert Grint has lost his le...      1  \n",
      "(10000, 3)\n"
     ]
    }
   ],
   "source": [
    "readpath='C:\\dataset\\\\processed_datatset\\\\total_dataset.csv'\n",
    "writepath='C:\\dataset\\\\processed_datatset\\\\small_dataset.csv'\n",
    "df = pd.read_csv(readpath)\n",
    "dfr = df[df.label==1]\n",
    "dff = df[df.label==0]\n",
    "print(dfr.shape)\n",
    "print(dff.shape)\n",
    "\n",
    "dfr=dfr.sample(n=5000)\n",
    "dff=dff.sample(n=5000)\n",
    "df=pd.concat([dfr,dff])\n",
    "print(df.head())\n",
    "print(df.shape)\n",
    "\n",
    "# df.rename(columns={\"content\": \"text\"},inplace=True)\n",
    "# print(df.head())\n",
    "\n",
    "# df[\"label\"].replace({0: \"FAKE\",1: \"REAL\"}, inplace=True)\n",
    "# df\n"
   ]
  },
  {
   "cell_type": "code",
   "execution_count": 5,
   "metadata": {},
   "outputs": [
    {
     "data": {
      "text/plain": [
       "0"
      ]
     },
     "execution_count": 5,
     "metadata": {},
     "output_type": "execute_result"
    }
   ],
   "source": [
    "df.isnull().sum().sum()"
   ]
  },
  {
   "cell_type": "code",
   "execution_count": 6,
   "metadata": {},
   "outputs": [
    {
     "data": {
      "text/html": [
       "<div>\n",
       "<style scoped>\n",
       "    .dataframe tbody tr th:only-of-type {\n",
       "        vertical-align: middle;\n",
       "    }\n",
       "\n",
       "    .dataframe tbody tr th {\n",
       "        vertical-align: top;\n",
       "    }\n",
       "\n",
       "    .dataframe thead th {\n",
       "        text-align: right;\n",
       "    }\n",
       "</style>\n",
       "<table border=\"1\" class=\"dataframe\">\n",
       "  <thead>\n",
       "    <tr style=\"text-align: right;\">\n",
       "      <th></th>\n",
       "      <th>title</th>\n",
       "      <th>content</th>\n",
       "      <th>label</th>\n",
       "    </tr>\n",
       "  </thead>\n",
       "  <tbody>\n",
       "    <tr>\n",
       "      <td>19043</td>\n",
       "      <td>Attorney for Illegal Alien in Prom-Night Drunk...</td>\n",
       "      <td>HOUSTON, Texas  —   The attorney for an previo...</td>\n",
       "      <td>1</td>\n",
       "    </tr>\n",
       "    <tr>\n",
       "      <td>129030</td>\n",
       "      <td>This 3-minute cartoon explains why nuclear wea...</td>\n",
       "      <td>Nuclear weapons are something so scary and so...</td>\n",
       "      <td>1</td>\n",
       "    </tr>\n",
       "    <tr>\n",
       "      <td>108125</td>\n",
       "      <td>New Year, New Laws: States Diverge On Gun Righ...</td>\n",
       "      <td>With the New Year comes a long list of new law...</td>\n",
       "      <td>1</td>\n",
       "    </tr>\n",
       "    <tr>\n",
       "      <td>87335</td>\n",
       "      <td>Unmask the foreign buyers stashing cash in Ame...</td>\n",
       "      <td>New York’s swankiest skyscrapers have become t...</td>\n",
       "      <td>1</td>\n",
       "    </tr>\n",
       "    <tr>\n",
       "      <td>149338</td>\n",
       "      <td>Number Of Accusers Grows To 12, As Former Miss...</td>\n",
       "      <td>By Sarah Jones on Thu, Oct 27th, 2016 at 1:41 ...</td>\n",
       "      <td>0</td>\n",
       "    </tr>\n",
       "    <tr>\n",
       "      <td>...</td>\n",
       "      <td>...</td>\n",
       "      <td>...</td>\n",
       "      <td>...</td>\n",
       "    </tr>\n",
       "    <tr>\n",
       "      <td>154624</td>\n",
       "      <td>Good Samaritan wearing Indian headdress disarm...</td>\n",
       "      <td>Good Samaritan wearing Indian headdress disarm...</td>\n",
       "      <td>0</td>\n",
       "    </tr>\n",
       "    <tr>\n",
       "      <td>144952</td>\n",
       "      <td>Apocalyptic sounds in the skies are back! This...</td>\n",
       "      <td>Apocalyptic sounds in the skies are back! This...</td>\n",
       "      <td>0</td>\n",
       "    </tr>\n",
       "    <tr>\n",
       "      <td>134814</td>\n",
       "      <td>Here’s how much you would need to afford rent ...</td>\n",
       "      <td>There is nowhere in this country where so...</td>\n",
       "      <td>1</td>\n",
       "    </tr>\n",
       "    <tr>\n",
       "      <td>86989</td>\n",
       "      <td>ISIS is killing dozens of its own in hunt for ...</td>\n",
       "      <td>BAGHDAD  —   In March, a senior commander with...</td>\n",
       "      <td>1</td>\n",
       "    </tr>\n",
       "    <tr>\n",
       "      <td>144476</td>\n",
       "      <td>WATCH: UT Students Protest Trump</td>\n",
       "      <td>Students at the University of Texas (UT) at Au...</td>\n",
       "      <td>0</td>\n",
       "    </tr>\n",
       "  </tbody>\n",
       "</table>\n",
       "<p>10000 rows × 3 columns</p>\n",
       "</div>"
      ],
      "text/plain": [
       "                                                    title  \\\n",
       "19043   Attorney for Illegal Alien in Prom-Night Drunk...   \n",
       "129030  This 3-minute cartoon explains why nuclear wea...   \n",
       "108125  New Year, New Laws: States Diverge On Gun Righ...   \n",
       "87335   Unmask the foreign buyers stashing cash in Ame...   \n",
       "149338  Number Of Accusers Grows To 12, As Former Miss...   \n",
       "...                                                   ...   \n",
       "154624  Good Samaritan wearing Indian headdress disarm...   \n",
       "144952  Apocalyptic sounds in the skies are back! This...   \n",
       "134814  Here’s how much you would need to afford rent ...   \n",
       "86989   ISIS is killing dozens of its own in hunt for ...   \n",
       "144476                   WATCH: UT Students Protest Trump   \n",
       "\n",
       "                                                  content  label  \n",
       "19043   HOUSTON, Texas  —   The attorney for an previo...      1  \n",
       "129030   Nuclear weapons are something so scary and so...      1  \n",
       "108125  With the New Year comes a long list of new law...      1  \n",
       "87335   New York’s swankiest skyscrapers have become t...      1  \n",
       "149338  By Sarah Jones on Thu, Oct 27th, 2016 at 1:41 ...      0  \n",
       "...                                                   ...    ...  \n",
       "154624  Good Samaritan wearing Indian headdress disarm...      0  \n",
       "144952  Apocalyptic sounds in the skies are back! This...      0  \n",
       "134814       There is nowhere in this country where so...      1  \n",
       "86989   BAGHDAD  —   In March, a senior commander with...      1  \n",
       "144476  Students at the University of Texas (UT) at Au...      0  \n",
       "\n",
       "[10000 rows x 3 columns]"
      ]
     },
     "execution_count": 6,
     "metadata": {},
     "output_type": "execute_result"
    }
   ],
   "source": [
    "df.sample(frac=1)"
   ]
  },
  {
   "cell_type": "code",
   "execution_count": 7,
   "metadata": {},
   "outputs": [],
   "source": [
    "y=df.label\n",
    "df=df.drop('label',axis=1)\n"
   ]
  },
  {
   "cell_type": "code",
   "execution_count": 8,
   "metadata": {},
   "outputs": [
    {
     "data": {
      "text/html": [
       "<div>\n",
       "<style scoped>\n",
       "    .dataframe tbody tr th:only-of-type {\n",
       "        vertical-align: middle;\n",
       "    }\n",
       "\n",
       "    .dataframe tbody tr th {\n",
       "        vertical-align: top;\n",
       "    }\n",
       "\n",
       "    .dataframe thead th {\n",
       "        text-align: right;\n",
       "    }\n",
       "</style>\n",
       "<table border=\"1\" class=\"dataframe\">\n",
       "  <thead>\n",
       "    <tr style=\"text-align: right;\">\n",
       "      <th></th>\n",
       "      <th>title</th>\n",
       "      <th>content</th>\n",
       "    </tr>\n",
       "  </thead>\n",
       "  <tbody>\n",
       "    <tr>\n",
       "      <td>95125</td>\n",
       "      <td>The Taliban think McDonald’s is ‘tasteless and...</td>\n",
       "      <td>McDonald’s has a new    —   the Taliban. The  ...</td>\n",
       "    </tr>\n",
       "    <tr>\n",
       "      <td>84128</td>\n",
       "      <td>The real reason Trump canned Jim Comey</td>\n",
       "      <td>The straw that broke the camel’s back for   FB...</td>\n",
       "    </tr>\n",
       "    <tr>\n",
       "      <td>122993</td>\n",
       "      <td>Commentary: Why the battle for Aleppo could de...</td>\n",
       "      <td>If Wednesday’s ceasefire in Aleppo holds, it c...</td>\n",
       "    </tr>\n",
       "    <tr>\n",
       "      <td>2993</td>\n",
       "      <td>I Used an Assault Rifle in the Army. I Don’t T...</td>\n",
       "      <td>I was 19 the first time I held an assault rifl...</td>\n",
       "    </tr>\n",
       "    <tr>\n",
       "      <td>102617</td>\n",
       "      <td>Harry Potter actor Rupert Grint loses £1m tax ...</td>\n",
       "      <td>Harry Potter star Rupert Grint has lost his le...</td>\n",
       "    </tr>\n",
       "    <tr>\n",
       "      <td>...</td>\n",
       "      <td>...</td>\n",
       "      <td>...</td>\n",
       "    </tr>\n",
       "    <tr>\n",
       "      <td>149066</td>\n",
       "      <td>Tomgram: Nomi Prins, Too Big to Fail, Hillary-...</td>\n",
       "      <td>(30 fans) - Advertisement - \\nThis article ori...</td>\n",
       "    </tr>\n",
       "    <tr>\n",
       "      <td>154454</td>\n",
       "      <td>The Truth U.S. Government Does NOT Want You To...</td>\n",
       "      <td>Share on Facebook The people of the world shou...</td>\n",
       "    </tr>\n",
       "    <tr>\n",
       "      <td>151737</td>\n",
       "      <td>Media Covering Up MASSIVE Anti-Trump Violence ...</td>\n",
       "      <td>Don’t let the media tell you that the anti-Don...</td>\n",
       "    </tr>\n",
       "    <tr>\n",
       "      <td>154061</td>\n",
       "      <td>Cómo decir «No» a las armas nucleares, por Man...</td>\n",
       "      <td>«El arte de la guerra»\\nCómo decir «No» a las ...</td>\n",
       "    </tr>\n",
       "    <tr>\n",
       "      <td>152197</td>\n",
       "      <td>Voter Dreading Being Sent Over To Visibly Stup...</td>\n",
       "      <td>Trump Raises Concern Over Members Of Urban Com...</td>\n",
       "    </tr>\n",
       "  </tbody>\n",
       "</table>\n",
       "<p>10000 rows × 2 columns</p>\n",
       "</div>"
      ],
      "text/plain": [
       "                                                    title  \\\n",
       "95125   The Taliban think McDonald’s is ‘tasteless and...   \n",
       "84128              The real reason Trump canned Jim Comey   \n",
       "122993  Commentary: Why the battle for Aleppo could de...   \n",
       "2993    I Used an Assault Rifle in the Army. I Don’t T...   \n",
       "102617  Harry Potter actor Rupert Grint loses £1m tax ...   \n",
       "...                                                   ...   \n",
       "149066  Tomgram: Nomi Prins, Too Big to Fail, Hillary-...   \n",
       "154454  The Truth U.S. Government Does NOT Want You To...   \n",
       "151737  Media Covering Up MASSIVE Anti-Trump Violence ...   \n",
       "154061  Cómo decir «No» a las armas nucleares, por Man...   \n",
       "152197  Voter Dreading Being Sent Over To Visibly Stup...   \n",
       "\n",
       "                                                  content  \n",
       "95125   McDonald’s has a new    —   the Taliban. The  ...  \n",
       "84128   The straw that broke the camel’s back for   FB...  \n",
       "122993  If Wednesday’s ceasefire in Aleppo holds, it c...  \n",
       "2993    I was 19 the first time I held an assault rifl...  \n",
       "102617  Harry Potter star Rupert Grint has lost his le...  \n",
       "...                                                   ...  \n",
       "149066  (30 fans) - Advertisement - \\nThis article ori...  \n",
       "154454  Share on Facebook The people of the world shou...  \n",
       "151737  Don’t let the media tell you that the anti-Don...  \n",
       "154061  «El arte de la guerra»\\nCómo decir «No» a las ...  \n",
       "152197  Trump Raises Concern Over Members Of Urban Com...  \n",
       "\n",
       "[10000 rows x 2 columns]"
      ]
     },
     "execution_count": 8,
     "metadata": {},
     "output_type": "execute_result"
    }
   ],
   "source": [
    "df"
   ]
  },
  {
   "cell_type": "code",
   "execution_count": 9,
   "metadata": {},
   "outputs": [],
   "source": [
    "from sklearn.model_selection import train_test_split\n",
    "\n",
    "from sklearn.feature_extraction.text import CountVectorizer\n",
    "from sklearn.feature_extraction.text import TfidfVectorizer\n",
    "from sklearn.feature_extraction.text import HashingVectorizer\n",
    "\n",
    "from sklearn.naive_bayes import MultinomialNB\n",
    "from sklearn import svm\n",
    "from sklearn.naive_bayes import GaussianNB\n",
    "\n",
    "from sklearn import metrics\n"
   ]
  },
  {
   "cell_type": "code",
   "execution_count": 10,
   "metadata": {},
   "outputs": [],
   "source": [
    "xtrain,xtest,ytrain,ytest= train_test_split(df['content'],y,test_size=0.33,random_state=53)"
   ]
  },
  {
   "cell_type": "code",
   "execution_count": 11,
   "metadata": {},
   "outputs": [
    {
     "name": "stdout",
     "output_type": "stream",
     "text": [
      "(6700, 97895)\n",
      "(3300, 97895)\n"
     ]
    }
   ],
   "source": [
    "countvectorizer =CountVectorizer(stop_words='english' )\n",
    "ctrainx=countvectorizer.fit_transform(xtrain)\n",
    "ctestx=countvectorizer.transform(xtest)\n",
    "print(ctrainx.shape)\n",
    "print(ctestx.shape)"
   ]
  },
  {
   "cell_type": "code",
   "execution_count": 12,
   "metadata": {},
   "outputs": [
    {
     "name": "stdout",
     "output_type": "stream",
     "text": [
      "(6700, 97895)\n",
      "(3300, 97895)\n"
     ]
    }
   ],
   "source": [
    "tfidf_vectorizer = TfidfVectorizer(stop_words='english', max_df=0.7 )\n",
    "ttrainx = tfidf_vectorizer.fit_transform(xtrain)\n",
    "ttestx = tfidf_vectorizer.transform(xtest)\n",
    "print(ttrainx.shape)\n",
    "print(ttestx.shape)"
   ]
  },
  {
   "cell_type": "code",
   "execution_count": 13,
   "metadata": {},
   "outputs": [
    {
     "data": {
      "text/plain": [
       "0.8451515151515151"
      ]
     },
     "execution_count": 13,
     "metadata": {},
     "output_type": "execute_result"
    }
   ],
   "source": [
    "# MultinomialNB    count vector\n",
    "classifier =MultinomialNB(alpha=0.03)\n",
    "classifier.fit(ctrainx,ytrain)\n",
    "ctestres=classifier.predict(ctestx)\n",
    "score =metrics.accuracy_score(ytest,ctestres)\n",
    "score"
   ]
  },
  {
   "cell_type": "code",
   "execution_count": 14,
   "metadata": {},
   "outputs": [
    {
     "data": {
      "text/plain": [
       "0.8572727272727273"
      ]
     },
     "execution_count": 14,
     "metadata": {},
     "output_type": "execute_result"
    }
   ],
   "source": [
    "# MultinomialNB    tfidf vector\n",
    "classifier =MultinomialNB(alpha=0.03)\n",
    "classifier.fit(ttrainx,ytrain)\n",
    "ttestres=classifier.predict(ttestx)\n",
    "score =metrics.accuracy_score(ytest,ttestres)\n",
    "score\n"
   ]
  },
  {
   "cell_type": "code",
   "execution_count": 15,
   "metadata": {},
   "outputs": [
    {
     "data": {
      "text/plain": [
       "0.48757575757575755"
      ]
     },
     "execution_count": 15,
     "metadata": {},
     "output_type": "execute_result"
    }
   ],
   "source": [
    "clf = svm.SVC(kernel='poly' ,degree=2 ,C=1 ,gamma=0.1)  #kernel  =poly\n",
    "clf.fit(ttrainx, ytrain)\n",
    "y_pred = clf.predict(ttestx)\n",
    "score=metrics.accuracy_score(ytest,y_pred)\n",
    "score"
   ]
  },
  {
   "cell_type": "code",
   "execution_count": 16,
   "metadata": {},
   "outputs": [
    {
     "name": "stderr",
     "output_type": "stream",
     "text": [
      "D:\\SETUP_FILES_2\\Anaconda3\\lib\\site-packages\\sklearn\\svm\\base.py:193: FutureWarning: The default value of gamma will change from 'auto' to 'scale' in version 0.22 to account better for unscaled features. Set gamma explicitly to 'auto' or 'scale' to avoid this warning.\n",
      "  \"avoid this warning.\", FutureWarning)\n"
     ]
    },
    {
     "data": {
      "text/plain": [
       "0.48757575757575755"
      ]
     },
     "execution_count": 16,
     "metadata": {},
     "output_type": "execute_result"
    }
   ],
   "source": [
    "clf = svm.SVC(kernel='sigmoid')   #sigmoid \n",
    "clf.fit(ttrainx, ytrain)\n",
    "y_pred = clf.predict(ttestx)\n",
    "score=metrics.accuracy_score(ytest,y_pred)\n",
    "score"
   ]
  },
  {
   "cell_type": "code",
   "execution_count": 17,
   "metadata": {},
   "outputs": [
    {
     "data": {
      "text/plain": [
       "0.8703030303030304"
      ]
     },
     "execution_count": 17,
     "metadata": {},
     "output_type": "execute_result"
    }
   ],
   "source": [
    "clf = svm.SVC(kernel='rbf' ,C=1 ,gamma=0.1)   # kernel='rbf'\n",
    "clf.fit(ttrainx, ytrain)\n",
    "y_pred = clf.predict(ttestx)\n",
    "score=metrics.accuracy_score(ytest,y_pred)\n",
    "score"
   ]
  },
  {
   "cell_type": "code",
   "execution_count": 18,
   "metadata": {},
   "outputs": [
    {
     "data": {
      "text/plain": [
       "0.8942424242424243"
      ]
     },
     "execution_count": 18,
     "metadata": {},
     "output_type": "execute_result"
    }
   ],
   "source": [
    "clf = svm.SVC(kernel='linear')\n",
    "clf.fit(ttrainx, ytrain)\n",
    "y_pred = clf.predict(ttestx)\n",
    "score=metrics.accuracy_score(ytest,y_pred)\n",
    "score"
   ]
  },
  {
   "cell_type": "code",
   "execution_count": 19,
   "metadata": {},
   "outputs": [],
   "source": [
    "import seaborn as sns\n",
    "color = sns.color_palette()\n",
    "import matplotlib.pyplot as plt\n",
    "import lightgbm as lgb # to install $ pip install lightgbm\n",
    "from PIL import Image"
   ]
  },
  {
   "cell_type": "code",
   "execution_count": null,
   "metadata": {},
   "outputs": [],
   "source": [
    "# dk= \n",
    "# sns.pairplot(data=dk, hue=\"fake\", dropna='true')"
   ]
  },
  {
   "cell_type": "code",
   "execution_count": null,
   "metadata": {},
   "outputs": [],
   "source": []
  },
  {
   "cell_type": "code",
   "execution_count": 20,
   "metadata": {},
   "outputs": [
    {
     "name": "stdout",
     "output_type": "stream",
     "text": [
      "Collecting wordcloud\n",
      "  Downloading https://files.pythonhosted.org/packages/96/36/f712ec19c6e253d27c5cae0d45a4a465ebb5ccf0cb26887a6a3127d13769/wordcloud-1.6.0-cp37-cp37m-win_amd64.whl (153kB)\n",
      "Requirement already satisfied: pillow in d:\\setup_files_2\\anaconda3\\lib\\site-packages (from wordcloud) (6.2.0)\n",
      "Requirement already satisfied: numpy>=1.6.1 in d:\\setup_files_2\\anaconda3\\lib\\site-packages (from wordcloud) (1.16.5)\n",
      "Requirement already satisfied: matplotlib in d:\\setup_files_2\\anaconda3\\lib\\site-packages (from wordcloud) (3.1.1)\n",
      "Requirement already satisfied: cycler>=0.10 in d:\\setup_files_2\\anaconda3\\lib\\site-packages (from matplotlib->wordcloud) (0.10.0)\n",
      "Requirement already satisfied: kiwisolver>=1.0.1 in d:\\setup_files_2\\anaconda3\\lib\\site-packages (from matplotlib->wordcloud) (1.1.0)\n",
      "Requirement already satisfied: pyparsing!=2.0.4,!=2.1.2,!=2.1.6,>=2.0.1 in d:\\setup_files_2\\anaconda3\\lib\\site-packages (from matplotlib->wordcloud) (2.4.2)\n",
      "Requirement already satisfied: python-dateutil>=2.1 in d:\\setup_files_2\\anaconda3\\lib\\site-packages (from matplotlib->wordcloud) (2.8.0)\n",
      "Requirement already satisfied: six in d:\\setup_files_2\\anaconda3\\lib\\site-packages (from cycler>=0.10->matplotlib->wordcloud) (1.12.0)\n",
      "Requirement already satisfied: setuptools in d:\\setup_files_2\\anaconda3\\lib\\site-packages (from kiwisolver>=1.0.1->matplotlib->wordcloud) (41.4.0)\n",
      "Installing collected packages: wordcloud\n",
      "Successfully installed wordcloud-1.6.0\n"
     ]
    }
   ],
   "source": [
    "# !pip install wordcloud\n",
    "import requests\n",
    "from wordcloud import WordCloud, STOPWORDS  #install $ pip install wordcloud\n",
    "\n",
    "# Thanks : https://www.kaggle.com/aashita/word-clouds-of-various-shapes ##\n",
    "def plot_wordcloud(text, mask=None, max_words=200, max_font_size=100, figure_size=(24.0,16.0), \n",
    "                   title = None, title_size=40, image_color=False):\n",
    "    stopwords = set(STOPWORDS)\n",
    "    more_stopwords = {'one', 'br', 'Po', 'th', 'sayi', 'fo', 'Unknown'}\n",
    "    stopwords = stopwords.union(more_stopwords)\n",
    "\n",
    "    wordcloud = WordCloud(background_color='white',\n",
    "                    stopwords = stopwords,\n",
    "                    max_words = max_words,\n",
    "                    max_font_size = max_font_size, \n",
    "                    random_state = 42,\n",
    "                    width=800, \n",
    "                    height=400,\n",
    "                    mask = mask)\n",
    "    wordcloud.generate(str(text))\n",
    "    \n",
    "    plt.figure(figsize=figure_size)\n",
    "    if image_color:\n",
    "        image_colors = ImageColorGenerator(mask);\n",
    "        plt.imshow(wordcloud.recolor(color_func=image_colors), interpolation=\"bilinear\");\n",
    "        plt.title(title, fontdict={'size': title_size,  \n",
    "                                  'verticalalignment': 'bottom'})\n",
    "    else:\n",
    "        plt.imshow(wordcloud);\n",
    "        plt.title(title, fontdict={'size': title_size, 'color': 'green', \n",
    "                                  'verticalalignment': 'bottom'})\n",
    "    plt.axis('off');\n",
    "    plt.tight_layout()  \n"
   ]
  },
  {
   "cell_type": "code",
   "execution_count": 29,
   "metadata": {},
   "outputs": [],
   "source": [
    "import numpy as np\n",
    "response = requests.get('https://raw.githubusercontent.com/manojknit/Natural_Language_Processing/master/images/upvote.png')\n",
    "from io import BytesIO"
   ]
  },
  {
   "cell_type": "code",
   "execution_count": 33,
   "metadata": {},
   "outputs": [],
   "source": [
    "# upvote_mask = np.array(Image.open(BytesIO(response.content)))#https://raw.githubusercontent.com/manojknit/Natural_Language_Processing/master/images/upvote.png\n",
    "# plot_wordcloud(  dff[\"content\"], upvote_mask, max_words=300000, max_font_size=300, title=\"Word Cloud of Questions\")"
   ]
  },
  {
   "cell_type": "code",
   "execution_count": null,
   "metadata": {},
   "outputs": [],
   "source": []
  },
  {
   "cell_type": "code",
   "execution_count": 34,
   "metadata": {},
   "outputs": [
    {
     "data": {
      "text/plain": [
       "array([[ -9.99302094,  -7.41727091, -14.06365263, ..., -14.06365263,\n",
       "        -14.06365263, -14.06365263]])"
      ]
     },
     "execution_count": 34,
     "metadata": {},
     "output_type": "execute_result"
    }
   ],
   "source": [
    "classifier.coef_"
   ]
  },
  {
   "cell_type": "code",
   "execution_count": 35,
   "metadata": {},
   "outputs": [
    {
     "data": {
      "text/plain": [
       "(1, 97895)"
      ]
     },
     "execution_count": 35,
     "metadata": {},
     "output_type": "execute_result"
    }
   ],
   "source": [
    "classifier.coef_.shape"
   ]
  },
  {
   "cell_type": "code",
   "execution_count": 36,
   "metadata": {},
   "outputs": [
    {
     "data": {
      "text/plain": [
       "<zip at 0x1bf5b2fe1c8>"
      ]
     },
     "execution_count": 36,
     "metadata": {},
     "output_type": "execute_result"
    }
   ],
   "source": [
    "features = tfidf_vectorizer.get_feature_names()\n",
    "zip(classifier.coef_ , features)"
   ]
  },
  {
   "cell_type": "code",
   "execution_count": 49,
   "metadata": {},
   "outputs": [
    {
     "data": {
      "text/plain": [
       "[(-5.550644298395463, 'trump'),\n",
       " (-5.640723486283248, 'said'),\n",
       " (-6.418407697095881, 'people'),\n",
       " (-6.4652964057480355, 'president'),\n",
       " (-6.505165660697899, 'clinton'),\n",
       " (-6.53205053322892, 'new'),\n",
       " (-6.753108022714204, 'like'),\n",
       " (-6.768116637540558, 'percent'),\n",
       " (-6.800904571330794, 'obama'),\n",
       " (-6.811628974861243, 'mr'),\n",
       " (-6.851682957251885, 'says'),\n",
       " (-6.857946203179813, 'just'),\n",
       " (-6.860317837306381, 'state'),\n",
       " (-6.8882357705277855, 'house'),\n",
       " (-6.930094132218986, 'police'),\n",
       " (-6.960833393383645, 'time'),\n",
       " (-6.963681068539085, 'told'),\n",
       " (-6.989734534059217, 'campaign'),\n",
       " (-7.004198185652083, 'republican'),\n",
       " (-7.016276569389406, 'year')]"
      ]
     },
     "execution_count": 49,
     "metadata": {},
     "output_type": "execute_result"
    }
   ],
   "source": [
    "b= sorted( zip(classifier.coef_[0] , features), reverse=True )\n",
    "b[:20]     #real"
   ]
  },
  {
   "cell_type": "code",
   "execution_count": 51,
   "metadata": {},
   "outputs": [
    {
     "data": {
      "text/plain": [
       "[(-14.063652633567031, '0000'),\n",
       " (-14.063652633567031, '0001'),\n",
       " (-14.063652633567031, '000202'),\n",
       " (-14.063652633567031, '000205'),\n",
       " (-14.063652633567031, '000emails'),\n",
       " (-14.063652633567031, '001219074822'),\n",
       " (-14.063652633567031, '0023z'),\n",
       " (-14.063652633567031, '0054z'),\n",
       " (-14.063652633567031, '005s'),\n",
       " (-14.063652633567031, '00684'),\n",
       " (-14.063652633567031, '006s'),\n",
       " (-14.063652633567031, '009'),\n",
       " (-14.063652633567031, '0099'),\n",
       " (-14.063652633567031, '0101'),\n",
       " (-14.063652633567031, '015'),\n",
       " (-14.063652633567031, '019'),\n",
       " (-14.063652633567031, '01am'),\n",
       " (-14.063652633567031, '01pm'),\n",
       " (-14.063652633567031, '01s'),\n",
       " (-14.063652633567031, '020')]"
      ]
     },
     "execution_count": 51,
     "metadata": {},
     "output_type": "execute_result"
    }
   ],
   "source": [
    "b= sorted( zip(classifier.coef_[0] , features))\n",
    "b[:20]  #fake"
   ]
  },
  {
   "cell_type": "code",
   "execution_count": null,
   "metadata": {},
   "outputs": [],
   "source": []
  },
  {
   "cell_type": "code",
   "execution_count": null,
   "metadata": {},
   "outputs": [],
   "source": []
  },
  {
   "cell_type": "code",
   "execution_count": 52,
   "metadata": {},
   "outputs": [],
   "source": [
    "hash_vectorizer = HashingVectorizer(stop_words='english', alternate_sign=False)\n",
    "hash_train = hash_vectorizer.fit_transform(xtrain)\n",
    "hash_test = hash_vectorizer.transform(xtest)"
   ]
  },
  {
   "cell_type": "code",
   "execution_count": 54,
   "metadata": {},
   "outputs": [
    {
     "data": {
      "text/plain": [
       "0.8563636363636363"
      ]
     },
     "execution_count": 54,
     "metadata": {},
     "output_type": "execute_result"
    }
   ],
   "source": [
    "clf = MultinomialNB(alpha=.01)\n",
    "clf.fit(hash_train, ytrain)\n",
    "pred = clf.predict(hash_test)\n",
    "score = metrics.accuracy_score(ytest, pred)\n",
    "score"
   ]
  },
  {
   "cell_type": "code",
   "execution_count": null,
   "metadata": {},
   "outputs": [],
   "source": [
    "\n",
    "\n",
    "\n"
   ]
  },
  {
   "cell_type": "code",
   "execution_count": 55,
   "metadata": {},
   "outputs": [],
   "source": [
    "from sklearn.linear_model import PassiveAggressiveClassifier\n",
    "clf = PassiveAggressiveClassifier(50)\n",
    "clf.fit(hash_train, ytrain)\n",
    "pred = clf.predict(hash_test)\n",
    "score = metrics.accuracy_score(ytest, pred)"
   ]
  },
  {
   "cell_type": "code",
   "execution_count": 56,
   "metadata": {},
   "outputs": [
    {
     "data": {
      "text/plain": [
       "0.8854545454545455"
      ]
     },
     "execution_count": 56,
     "metadata": {},
     "output_type": "execute_result"
    }
   ],
   "source": [
    "score"
   ]
  },
  {
   "cell_type": "code",
   "execution_count": null,
   "metadata": {},
   "outputs": [],
   "source": []
  }
 ],
 "metadata": {
  "kernelspec": {
   "display_name": "Python 3",
   "language": "python",
   "name": "python3"
  },
  "language_info": {
   "codemirror_mode": {
    "name": "ipython",
    "version": 3
   },
   "file_extension": ".py",
   "mimetype": "text/x-python",
   "name": "python",
   "nbconvert_exporter": "python",
   "pygments_lexer": "ipython3",
   "version": "3.7.4"
  }
 },
 "nbformat": 4,
 "nbformat_minor": 4
}
