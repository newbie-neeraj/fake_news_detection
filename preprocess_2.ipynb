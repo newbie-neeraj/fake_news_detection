{
 "cells": [
  {
   "cell_type": "code",
   "execution_count": 1,
   "metadata": {},
   "outputs": [],
   "source": [
    "from os import listdir\n",
    "from os.path import isfile, join\n",
    "import pandas as pd"
   ]
  },
  {
   "cell_type": "code",
   "execution_count": 2,
   "metadata": {},
   "outputs": [
    {
     "name": "stdout",
     "output_type": "stream",
     "text": [
      "['articles1.csv', 'articles2.csv', 'articles3.csv']\n",
      "['fake.csv']\n"
     ]
    }
   ],
   "source": [
    "path_base_original_real=\"C:\\dataset\\original_dataset\\\\real\"\n",
    "path_base_original_fake=\"C:\\dataset\\original_dataset\\\\fake\"\n",
    "fullpath_fake=path_base_original_fake+\"\\\\fake.csv\"\n",
    "path_base_modified=\"C:\\dataset\\processed_datatset\"\n",
    "fullpath_modified=path_base_modified+\"\\\\total_dataset.csv\"\n",
    "originaldataset_real = [f for f in listdir(path_base_original_real) if isfile(join(path_base_original_real, f))]\n",
    "print(originaldataset_real)\n",
    "\n",
    "originaldataset_fake = [f for f in listdir(path_base_original_fake) if isfile(join(path_base_original_fake, f))]\n",
    "print(originaldataset_fake)"
   ]
  },
  {
   "cell_type": "code",
   "execution_count": 3,
   "metadata": {},
   "outputs": [],
   "source": [
    "# 0--fake\n",
    "# 1--real\n",
    "l=list()\n",
    "for i in originaldataset_real:\n",
    "    fullpath_real=path_base_original_real+\"\\\\\"+i\n",
    "    df=pd.read_csv(fullpath_real,usecols=[2,9])\n",
    "    df[\"label\"]=1\n",
    "#     print(df.head(5))\n",
    "    l.append(df)\n",
    "    \n",
    "    \n",
    "df=pd.read_csv(fullpath_fake,usecols=[4,5])\n",
    "df.rename(columns=({'text':'content'}),  inplace=True )\n",
    "df[\"label\"]=0\n",
    "# print(df.head(5))\n",
    "l.append(df)\n",
    "df= pd.concat(l)\n",
    "# print(df.head(5))\n",
    "# print(df.shape)\n",
    "df.to_csv(fullpath_modified,index=False,encoding=\"utf8\")\n"
   ]
  },
  {
   "cell_type": "code",
   "execution_count": 4,
   "metadata": {},
   "outputs": [],
   "source": [
    " df.dropna(subset=['title','content'], inplace=True)"
   ]
  },
  {
   "cell_type": "code",
   "execution_count": 5,
   "metadata": {},
   "outputs": [
    {
     "data": {
      "text/plain": [
       "(154841, 3)"
      ]
     },
     "execution_count": 5,
     "metadata": {},
     "output_type": "execute_result"
    }
   ],
   "source": [
    "df.shape"
   ]
  },
  {
   "cell_type": "code",
   "execution_count": 6,
   "metadata": {},
   "outputs": [
    {
     "data": {
      "text/html": [
       "<div>\n",
       "<style scoped>\n",
       "    .dataframe tbody tr th:only-of-type {\n",
       "        vertical-align: middle;\n",
       "    }\n",
       "\n",
       "    .dataframe tbody tr th {\n",
       "        vertical-align: top;\n",
       "    }\n",
       "\n",
       "    .dataframe thead th {\n",
       "        text-align: right;\n",
       "    }\n",
       "</style>\n",
       "<table border=\"1\" class=\"dataframe\">\n",
       "  <thead>\n",
       "    <tr style=\"text-align: right;\">\n",
       "      <th></th>\n",
       "      <th>title</th>\n",
       "      <th>content</th>\n",
       "      <th>label</th>\n",
       "    </tr>\n",
       "  </thead>\n",
       "  <tbody>\n",
       "  </tbody>\n",
       "</table>\n",
       "</div>"
      ],
      "text/plain": [
       "Empty DataFrame\n",
       "Columns: [title, content, label]\n",
       "Index: []"
      ]
     },
     "execution_count": 6,
     "metadata": {},
     "output_type": "execute_result"
    }
   ],
   "source": [
    "bool_have_null =pd.isnull(df['content'])\n",
    "df[bool_have_null]"
   ]
  },
  {
   "cell_type": "code",
   "execution_count": 7,
   "metadata": {},
   "outputs": [
    {
     "data": {
      "text/html": [
       "<div>\n",
       "<style scoped>\n",
       "    .dataframe tbody tr th:only-of-type {\n",
       "        vertical-align: middle;\n",
       "    }\n",
       "\n",
       "    .dataframe tbody tr th {\n",
       "        vertical-align: top;\n",
       "    }\n",
       "\n",
       "    .dataframe thead th {\n",
       "        text-align: right;\n",
       "    }\n",
       "</style>\n",
       "<table border=\"1\" class=\"dataframe\">\n",
       "  <thead>\n",
       "    <tr style=\"text-align: right;\">\n",
       "      <th></th>\n",
       "      <th>title</th>\n",
       "      <th>content</th>\n",
       "      <th>label</th>\n",
       "    </tr>\n",
       "  </thead>\n",
       "  <tbody>\n",
       "  </tbody>\n",
       "</table>\n",
       "</div>"
      ],
      "text/plain": [
       "Empty DataFrame\n",
       "Columns: [title, content, label]\n",
       "Index: []"
      ]
     },
     "execution_count": 7,
     "metadata": {},
     "output_type": "execute_result"
    }
   ],
   "source": [
    "bool_have_null =pd.isnull(df['title'])\n",
    "df[bool_have_null]"
   ]
  },
  {
   "cell_type": "code",
   "execution_count": null,
   "metadata": {},
   "outputs": [],
   "source": []
  }
 ],
 "metadata": {
  "kernelspec": {
   "display_name": "Python 3",
   "language": "python",
   "name": "python3"
  },
  "language_info": {
   "codemirror_mode": {
    "name": "ipython",
    "version": 3
   },
   "file_extension": ".py",
   "mimetype": "text/x-python",
   "name": "python",
   "nbconvert_exporter": "python",
   "pygments_lexer": "ipython3",
   "version": "3.7.4"
  }
 },
 "nbformat": 4,
 "nbformat_minor": 4
}
