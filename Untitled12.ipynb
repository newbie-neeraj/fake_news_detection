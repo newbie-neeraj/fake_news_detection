{
 "cells": [
  {
   "cell_type": "code",
   "execution_count": 1,
   "metadata": {},
   "outputs": [],
   "source": [
    "from os import listdir\n",
    "from os.path import isfile, join\n",
    "import pandas as pd\n",
    "\n",
    "path_base_original_real=\"C:\\dataset\\original_dataset\\\\real\"\n",
    "path_base_original_fake=\"C:\\dataset\\original_dataset\\\\fake\"\n",
    "fullpath_fake=path_base_original_fake+\"\\\\fake.csv\"\n",
    "path_base_modified=\"C:\\dataset\\processed_datatset\"\n",
    "fullpath_modified=path_base_modified+\"\\\\total_dataset.csv\"\n",
    "path_modified_onlyreal=path_base_modified+\"\\\\real_dataset.csv\"\n",
    "path_modified_onlyfake=path_base_modified+\"\\\\fake_dataset.csv\""
   ]
  },
  {
   "cell_type": "code",
   "execution_count": 2,
   "metadata": {},
   "outputs": [],
   "source": [
    "from nltk.tokenize import word_tokenize\n",
    "import re \n",
    "import nltk\n",
    "# nltk.download('stopwords')\n",
    "from nltk.corpus import stopwords \n",
    "from nltk.stem.porter import PorterStemmer\n",
    "from gensim.models import word2vec\n",
    "from nltk.stem import WordNetLemmatizer \n",
    "lemmatizer = WordNetLemmatizer() \n",
    "# nltk.download('wordnet')"
   ]
  },
  {
   "cell_type": "code",
   "execution_count": 3,
   "metadata": {},
   "outputs": [],
   "source": [
    "def cleaningbody(txt):\n",
    "#     review = txt.split()\n",
    "    review = re.sub('[^a-zA-Z]', ' ', txt) # Cleans all except characters\n",
    "    review = review.lower()\n",
    "    review=word_tokenize(review)\n",
    "#     review = review.split()\n",
    "    review = [ lemmatizer.lemmatize(word) for word in review if not word in set(stopwords.words('english'))  if len(word)>=3  ]\n",
    "#     if review.size()<\n",
    "#     ps = PorterStemmer()\n",
    "#     review = [ps.stem(word) for word in review if not word in set(stopwords.words('english'))]\n",
    "    if len(review)<30:\n",
    "        return None\n",
    "    return review"
   ]
  },
  {
   "cell_type": "code",
   "execution_count": 4,
   "metadata": {},
   "outputs": [
    {
     "data": {
      "text/html": [
       "<div>\n",
       "<style scoped>\n",
       "    .dataframe tbody tr th:only-of-type {\n",
       "        vertical-align: middle;\n",
       "    }\n",
       "\n",
       "    .dataframe tbody tr th {\n",
       "        vertical-align: top;\n",
       "    }\n",
       "\n",
       "    .dataframe thead th {\n",
       "        text-align: right;\n",
       "    }\n",
       "</style>\n",
       "<table border=\"1\" class=\"dataframe\">\n",
       "  <thead>\n",
       "    <tr style=\"text-align: right;\">\n",
       "      <th></th>\n",
       "      <th>content</th>\n",
       "    </tr>\n",
       "  </thead>\n",
       "  <tbody>\n",
       "    <tr>\n",
       "      <td>39802</td>\n",
       "      <td>[cnn, former, new, york, gov, mario, cuomo, ro...</td>\n",
       "    </tr>\n",
       "    <tr>\n",
       "      <td>69943</td>\n",
       "      <td>[kristen, stewart, star, upcoming, film, caf, ...</td>\n",
       "    </tr>\n",
       "    <tr>\n",
       "      <td>25606</td>\n",
       "      <td>[dortmund, germany, subject, pickup, line, ger...</td>\n",
       "    </tr>\n",
       "    <tr>\n",
       "      <td>139449</td>\n",
       "      <td>[republican, party, turmoil, wednesday, party,...</td>\n",
       "    </tr>\n",
       "    <tr>\n",
       "      <td>871</td>\n",
       "      <td>[washington, document, carried, title, roadmap...</td>\n",
       "    </tr>\n",
       "    <tr>\n",
       "      <td>...</td>\n",
       "      <td>...</td>\n",
       "    </tr>\n",
       "    <tr>\n",
       "      <td>97437</td>\n",
       "      <td>[people, call, black, snake, evil, say, tressa...</td>\n",
       "    </tr>\n",
       "    <tr>\n",
       "      <td>136654</td>\n",
       "      <td>[akron, ohio, presidential, hopeful, party, ma...</td>\n",
       "    </tr>\n",
       "    <tr>\n",
       "      <td>120309</td>\n",
       "      <td>[chipmaker, broadcom, limited, antitrust, appr...</td>\n",
       "    </tr>\n",
       "    <tr>\n",
       "      <td>116754</td>\n",
       "      <td>[snap, prepares, planned, stock, market, debut...</td>\n",
       "    </tr>\n",
       "    <tr>\n",
       "      <td>23204</td>\n",
       "      <td>[former, president, bill, clinton, tense, inte...</td>\n",
       "    </tr>\n",
       "  </tbody>\n",
       "</table>\n",
       "<p>2958 rows × 1 columns</p>\n",
       "</div>"
      ],
      "text/plain": [
       "                                                  content\n",
       "39802   [cnn, former, new, york, gov, mario, cuomo, ro...\n",
       "69943   [kristen, stewart, star, upcoming, film, caf, ...\n",
       "25606   [dortmund, germany, subject, pickup, line, ger...\n",
       "139449  [republican, party, turmoil, wednesday, party,...\n",
       "871     [washington, document, carried, title, roadmap...\n",
       "...                                                   ...\n",
       "97437   [people, call, black, snake, evil, say, tressa...\n",
       "136654  [akron, ohio, presidential, hopeful, party, ma...\n",
       "120309  [chipmaker, broadcom, limited, antitrust, appr...\n",
       "116754  [snap, prepares, planned, stock, market, debut...\n",
       "23204   [former, president, bill, clinton, tense, inte...\n",
       "\n",
       "[2958 rows x 1 columns]"
      ]
     },
     "execution_count": 4,
     "metadata": {},
     "output_type": "execute_result"
    }
   ],
   "source": [
    "path_base=\"C:\\dataset\"\n",
    "# path_modified_onlyreal\n",
    "smallerset_real=path_base+\"\\\\smallerset_real_09.csv\"\n",
    "df_real=pd.read_csv(path_modified_onlyreal ,usecols=[1])\n",
    "df_real_sample =df_real.sample(n=3000)\n",
    "df_real_sample.dropna()\n",
    "df_real_sample['content'] = df_real_sample['content'].apply(lambda x: cleaningbody(x))\n",
    "df_real_sample.dropna()\n",
    "# df_real_sample.to_csv(smallerset_real,index=False,encoding=\"utf8\")"
   ]
  },
  {
   "cell_type": "code",
   "execution_count": 6,
   "metadata": {},
   "outputs": [
    {
     "name": "stdout",
     "output_type": "stream",
     "text": [
      "(3000, 1)\n"
     ]
    },
    {
     "data": {
      "text/plain": [
       "42"
      ]
     },
     "execution_count": 6,
     "metadata": {},
     "output_type": "execute_result"
    }
   ],
   "source": [
    "print(df_real_sample.shape)\n",
    "df_real_sample.isnull().sum().sum()"
   ]
  },
  {
   "cell_type": "code",
   "execution_count": 8,
   "metadata": {},
   "outputs": [
    {
     "data": {
      "text/html": [
       "<div>\n",
       "<style scoped>\n",
       "    .dataframe tbody tr th:only-of-type {\n",
       "        vertical-align: middle;\n",
       "    }\n",
       "\n",
       "    .dataframe tbody tr th {\n",
       "        vertical-align: top;\n",
       "    }\n",
       "\n",
       "    .dataframe thead th {\n",
       "        text-align: right;\n",
       "    }\n",
       "</style>\n",
       "<table border=\"1\" class=\"dataframe\">\n",
       "  <thead>\n",
       "    <tr style=\"text-align: right;\">\n",
       "      <th></th>\n",
       "      <th>content</th>\n",
       "    </tr>\n",
       "  </thead>\n",
       "  <tbody>\n",
       "    <tr>\n",
       "      <td>114684</td>\n",
       "      <td>None</td>\n",
       "    </tr>\n",
       "    <tr>\n",
       "      <td>66436</td>\n",
       "      <td>None</td>\n",
       "    </tr>\n",
       "    <tr>\n",
       "      <td>54883</td>\n",
       "      <td>None</td>\n",
       "    </tr>\n",
       "    <tr>\n",
       "      <td>65678</td>\n",
       "      <td>None</td>\n",
       "    </tr>\n",
       "    <tr>\n",
       "      <td>44298</td>\n",
       "      <td>None</td>\n",
       "    </tr>\n",
       "    <tr>\n",
       "      <td>139301</td>\n",
       "      <td>None</td>\n",
       "    </tr>\n",
       "    <tr>\n",
       "      <td>29463</td>\n",
       "      <td>None</td>\n",
       "    </tr>\n",
       "    <tr>\n",
       "      <td>42746</td>\n",
       "      <td>None</td>\n",
       "    </tr>\n",
       "    <tr>\n",
       "      <td>18782</td>\n",
       "      <td>None</td>\n",
       "    </tr>\n",
       "    <tr>\n",
       "      <td>62125</td>\n",
       "      <td>None</td>\n",
       "    </tr>\n",
       "    <tr>\n",
       "      <td>11023</td>\n",
       "      <td>None</td>\n",
       "    </tr>\n",
       "    <tr>\n",
       "      <td>64329</td>\n",
       "      <td>None</td>\n",
       "    </tr>\n",
       "    <tr>\n",
       "      <td>115314</td>\n",
       "      <td>None</td>\n",
       "    </tr>\n",
       "    <tr>\n",
       "      <td>14598</td>\n",
       "      <td>None</td>\n",
       "    </tr>\n",
       "    <tr>\n",
       "      <td>41442</td>\n",
       "      <td>None</td>\n",
       "    </tr>\n",
       "    <tr>\n",
       "      <td>40183</td>\n",
       "      <td>None</td>\n",
       "    </tr>\n",
       "    <tr>\n",
       "      <td>62483</td>\n",
       "      <td>None</td>\n",
       "    </tr>\n",
       "    <tr>\n",
       "      <td>66389</td>\n",
       "      <td>None</td>\n",
       "    </tr>\n",
       "    <tr>\n",
       "      <td>66043</td>\n",
       "      <td>None</td>\n",
       "    </tr>\n",
       "    <tr>\n",
       "      <td>115548</td>\n",
       "      <td>None</td>\n",
       "    </tr>\n",
       "    <tr>\n",
       "      <td>111250</td>\n",
       "      <td>None</td>\n",
       "    </tr>\n",
       "    <tr>\n",
       "      <td>66311</td>\n",
       "      <td>None</td>\n",
       "    </tr>\n",
       "    <tr>\n",
       "      <td>49762</td>\n",
       "      <td>None</td>\n",
       "    </tr>\n",
       "    <tr>\n",
       "      <td>64254</td>\n",
       "      <td>None</td>\n",
       "    </tr>\n",
       "    <tr>\n",
       "      <td>31137</td>\n",
       "      <td>None</td>\n",
       "    </tr>\n",
       "    <tr>\n",
       "      <td>140405</td>\n",
       "      <td>None</td>\n",
       "    </tr>\n",
       "    <tr>\n",
       "      <td>42876</td>\n",
       "      <td>None</td>\n",
       "    </tr>\n",
       "    <tr>\n",
       "      <td>43176</td>\n",
       "      <td>None</td>\n",
       "    </tr>\n",
       "    <tr>\n",
       "      <td>29314</td>\n",
       "      <td>None</td>\n",
       "    </tr>\n",
       "    <tr>\n",
       "      <td>46080</td>\n",
       "      <td>None</td>\n",
       "    </tr>\n",
       "    <tr>\n",
       "      <td>42107</td>\n",
       "      <td>None</td>\n",
       "    </tr>\n",
       "    <tr>\n",
       "      <td>49685</td>\n",
       "      <td>None</td>\n",
       "    </tr>\n",
       "    <tr>\n",
       "      <td>61962</td>\n",
       "      <td>None</td>\n",
       "    </tr>\n",
       "    <tr>\n",
       "      <td>16723</td>\n",
       "      <td>None</td>\n",
       "    </tr>\n",
       "    <tr>\n",
       "      <td>46839</td>\n",
       "      <td>None</td>\n",
       "    </tr>\n",
       "    <tr>\n",
       "      <td>76303</td>\n",
       "      <td>None</td>\n",
       "    </tr>\n",
       "    <tr>\n",
       "      <td>48798</td>\n",
       "      <td>None</td>\n",
       "    </tr>\n",
       "    <tr>\n",
       "      <td>40472</td>\n",
       "      <td>None</td>\n",
       "    </tr>\n",
       "    <tr>\n",
       "      <td>66417</td>\n",
       "      <td>None</td>\n",
       "    </tr>\n",
       "    <tr>\n",
       "      <td>8424</td>\n",
       "      <td>None</td>\n",
       "    </tr>\n",
       "    <tr>\n",
       "      <td>45587</td>\n",
       "      <td>None</td>\n",
       "    </tr>\n",
       "    <tr>\n",
       "      <td>46728</td>\n",
       "      <td>None</td>\n",
       "    </tr>\n",
       "  </tbody>\n",
       "</table>\n",
       "</div>"
      ],
      "text/plain": [
       "       content\n",
       "114684    None\n",
       "66436     None\n",
       "54883     None\n",
       "65678     None\n",
       "44298     None\n",
       "139301    None\n",
       "29463     None\n",
       "42746     None\n",
       "18782     None\n",
       "62125     None\n",
       "11023     None\n",
       "64329     None\n",
       "115314    None\n",
       "14598     None\n",
       "41442     None\n",
       "40183     None\n",
       "62483     None\n",
       "66389     None\n",
       "66043     None\n",
       "115548    None\n",
       "111250    None\n",
       "66311     None\n",
       "49762     None\n",
       "64254     None\n",
       "31137     None\n",
       "140405    None\n",
       "42876     None\n",
       "43176     None\n",
       "29314     None\n",
       "46080     None\n",
       "42107     None\n",
       "49685     None\n",
       "61962     None\n",
       "16723     None\n",
       "46839     None\n",
       "76303     None\n",
       "48798     None\n",
       "40472     None\n",
       "66417     None\n",
       "8424      None\n",
       "45587     None\n",
       "46728     None"
      ]
     },
     "execution_count": 8,
     "metadata": {},
     "output_type": "execute_result"
    }
   ],
   "source": [
    "bool_have_null =pd.isnull(df_real_sample['content'])\n",
    "df_real_sample[bool_have_null]"
   ]
  },
  {
   "cell_type": "code",
   "execution_count": 11,
   "metadata": {},
   "outputs": [
    {
     "data": {
      "text/html": [
       "<div>\n",
       "<style scoped>\n",
       "    .dataframe tbody tr th:only-of-type {\n",
       "        vertical-align: middle;\n",
       "    }\n",
       "\n",
       "    .dataframe tbody tr th {\n",
       "        vertical-align: top;\n",
       "    }\n",
       "\n",
       "    .dataframe thead th {\n",
       "        text-align: right;\n",
       "    }\n",
       "</style>\n",
       "<table border=\"1\" class=\"dataframe\">\n",
       "  <thead>\n",
       "    <tr style=\"text-align: right;\">\n",
       "      <th></th>\n",
       "      <th>content</th>\n",
       "    </tr>\n",
       "  </thead>\n",
       "  <tbody>\n",
       "    <tr>\n",
       "      <td>39802</td>\n",
       "      <td>[cnn, former, new, york, gov, mario, cuomo, ro...</td>\n",
       "    </tr>\n",
       "    <tr>\n",
       "      <td>69943</td>\n",
       "      <td>[kristen, stewart, star, upcoming, film, caf, ...</td>\n",
       "    </tr>\n",
       "    <tr>\n",
       "      <td>25606</td>\n",
       "      <td>[dortmund, germany, subject, pickup, line, ger...</td>\n",
       "    </tr>\n",
       "    <tr>\n",
       "      <td>139449</td>\n",
       "      <td>[republican, party, turmoil, wednesday, party,...</td>\n",
       "    </tr>\n",
       "    <tr>\n",
       "      <td>871</td>\n",
       "      <td>[washington, document, carried, title, roadmap...</td>\n",
       "    </tr>\n",
       "    <tr>\n",
       "      <td>...</td>\n",
       "      <td>...</td>\n",
       "    </tr>\n",
       "    <tr>\n",
       "      <td>97437</td>\n",
       "      <td>[people, call, black, snake, evil, say, tressa...</td>\n",
       "    </tr>\n",
       "    <tr>\n",
       "      <td>136654</td>\n",
       "      <td>[akron, ohio, presidential, hopeful, party, ma...</td>\n",
       "    </tr>\n",
       "    <tr>\n",
       "      <td>120309</td>\n",
       "      <td>[chipmaker, broadcom, limited, antitrust, appr...</td>\n",
       "    </tr>\n",
       "    <tr>\n",
       "      <td>116754</td>\n",
       "      <td>[snap, prepares, planned, stock, market, debut...</td>\n",
       "    </tr>\n",
       "    <tr>\n",
       "      <td>23204</td>\n",
       "      <td>[former, president, bill, clinton, tense, inte...</td>\n",
       "    </tr>\n",
       "  </tbody>\n",
       "</table>\n",
       "<p>2958 rows × 1 columns</p>\n",
       "</div>"
      ],
      "text/plain": [
       "                                                  content\n",
       "39802   [cnn, former, new, york, gov, mario, cuomo, ro...\n",
       "69943   [kristen, stewart, star, upcoming, film, caf, ...\n",
       "25606   [dortmund, germany, subject, pickup, line, ger...\n",
       "139449  [republican, party, turmoil, wednesday, party,...\n",
       "871     [washington, document, carried, title, roadmap...\n",
       "...                                                   ...\n",
       "97437   [people, call, black, snake, evil, say, tressa...\n",
       "136654  [akron, ohio, presidential, hopeful, party, ma...\n",
       "120309  [chipmaker, broadcom, limited, antitrust, appr...\n",
       "116754  [snap, prepares, planned, stock, market, debut...\n",
       "23204   [former, president, bill, clinton, tense, inte...\n",
       "\n",
       "[2958 rows x 1 columns]"
      ]
     },
     "execution_count": 11,
     "metadata": {},
     "output_type": "execute_result"
    }
   ],
   "source": [
    "df_real_sample.dropna(inplace=True)\n",
    "df_real_sample"
   ]
  },
  {
   "cell_type": "code",
   "execution_count": 12,
   "metadata": {},
   "outputs": [
    {
     "data": {
      "text/html": [
       "<div>\n",
       "<style scoped>\n",
       "    .dataframe tbody tr th:only-of-type {\n",
       "        vertical-align: middle;\n",
       "    }\n",
       "\n",
       "    .dataframe tbody tr th {\n",
       "        vertical-align: top;\n",
       "    }\n",
       "\n",
       "    .dataframe thead th {\n",
       "        text-align: right;\n",
       "    }\n",
       "</style>\n",
       "<table border=\"1\" class=\"dataframe\">\n",
       "  <thead>\n",
       "    <tr style=\"text-align: right;\">\n",
       "      <th></th>\n",
       "      <th>content</th>\n",
       "    </tr>\n",
       "  </thead>\n",
       "  <tbody>\n",
       "  </tbody>\n",
       "</table>\n",
       "</div>"
      ],
      "text/plain": [
       "Empty DataFrame\n",
       "Columns: [content]\n",
       "Index: []"
      ]
     },
     "execution_count": 12,
     "metadata": {},
     "output_type": "execute_result"
    }
   ],
   "source": [
    "bool_have_null =pd.isnull(df_real_sample['content'])\n",
    "df_real_sample[bool_have_null]"
   ]
  },
  {
   "cell_type": "code",
   "execution_count": null,
   "metadata": {},
   "outputs": [],
   "source": []
  },
  {
   "cell_type": "code",
   "execution_count": null,
   "metadata": {},
   "outputs": [],
   "source": []
  },
  {
   "cell_type": "code",
   "execution_count": null,
   "metadata": {},
   "outputs": [],
   "source": []
  },
  {
   "cell_type": "code",
   "execution_count": null,
   "metadata": {},
   "outputs": [],
   "source": []
  },
  {
   "cell_type": "code",
   "execution_count": null,
   "metadata": {},
   "outputs": [],
   "source": []
  },
  {
   "cell_type": "code",
   "execution_count": 13,
   "metadata": {},
   "outputs": [],
   "source": [
    "#path_modified_onlyfake\n",
    "smallerset_fake=path_base+\"\\\\smallerset_fake_09.csv\"\n",
    "df_fake=pd.read_csv(path_modified_onlyfake,usecols=[1])\n",
    "df_fake_sample =df_real.sample(n=3000)\n",
    "df_fake_sample.dropna(inplace=True)\n",
    "df_fake_sample['content'] = df_fake_sample['content'].apply(lambda x: cleaningbody(x))\n",
    "df_fake_sample.dropna(inplace=True)\n",
    "# df_fake_sample.to_csv(smallerset_fake,index=False,encoding=\"utf8\")"
   ]
  },
  {
   "cell_type": "code",
   "execution_count": null,
   "metadata": {},
   "outputs": [],
   "source": []
  },
  {
   "cell_type": "code",
   "execution_count": 14,
   "metadata": {},
   "outputs": [
    {
     "data": {
      "text/plain": [
       "(2959, 1)"
      ]
     },
     "execution_count": 14,
     "metadata": {},
     "output_type": "execute_result"
    }
   ],
   "source": [
    "df_fake_sample.shape"
   ]
  },
  {
   "cell_type": "code",
   "execution_count": 15,
   "metadata": {},
   "outputs": [
    {
     "data": {
      "text/plain": [
       "0"
      ]
     },
     "execution_count": 15,
     "metadata": {},
     "output_type": "execute_result"
    }
   ],
   "source": [
    "df_fake_sample.isnull().sum().sum()"
   ]
  },
  {
   "cell_type": "code",
   "execution_count": 16,
   "metadata": {},
   "outputs": [
    {
     "data": {
      "text/html": [
       "<div>\n",
       "<style scoped>\n",
       "    .dataframe tbody tr th:only-of-type {\n",
       "        vertical-align: middle;\n",
       "    }\n",
       "\n",
       "    .dataframe tbody tr th {\n",
       "        vertical-align: top;\n",
       "    }\n",
       "\n",
       "    .dataframe thead th {\n",
       "        text-align: right;\n",
       "    }\n",
       "</style>\n",
       "<table border=\"1\" class=\"dataframe\">\n",
       "  <thead>\n",
       "    <tr style=\"text-align: right;\">\n",
       "      <th></th>\n",
       "      <th>content</th>\n",
       "    </tr>\n",
       "  </thead>\n",
       "  <tbody>\n",
       "  </tbody>\n",
       "</table>\n",
       "</div>"
      ],
      "text/plain": [
       "Empty DataFrame\n",
       "Columns: [content]\n",
       "Index: []"
      ]
     },
     "execution_count": 16,
     "metadata": {},
     "output_type": "execute_result"
    }
   ],
   "source": [
    "bool_have_null =pd.isnull(df_fake_sample['content'])\n",
    "df_fake_sample[bool_have_null]"
   ]
  },
  {
   "cell_type": "code",
   "execution_count": 17,
   "metadata": {},
   "outputs": [
    {
     "data": {
      "text/html": [
       "<div>\n",
       "<style scoped>\n",
       "    .dataframe tbody tr th:only-of-type {\n",
       "        vertical-align: middle;\n",
       "    }\n",
       "\n",
       "    .dataframe tbody tr th {\n",
       "        vertical-align: top;\n",
       "    }\n",
       "\n",
       "    .dataframe thead th {\n",
       "        text-align: right;\n",
       "    }\n",
       "</style>\n",
       "<table border=\"1\" class=\"dataframe\">\n",
       "  <thead>\n",
       "    <tr style=\"text-align: right;\">\n",
       "      <th></th>\n",
       "      <th>content</th>\n",
       "    </tr>\n",
       "  </thead>\n",
       "  <tbody>\n",
       "    <tr>\n",
       "      <td>105974</td>\n",
       "      <td>[new, york, mayor, bill, blasio, plan, close, ...</td>\n",
       "    </tr>\n",
       "    <tr>\n",
       "      <td>70995</td>\n",
       "      <td>[watch, video, video, message, released, monda...</td>\n",
       "    </tr>\n",
       "    <tr>\n",
       "      <td>37094</td>\n",
       "      <td>[cnn, finally, know, video, workshop, frank, o...</td>\n",
       "    </tr>\n",
       "    <tr>\n",
       "      <td>77363</td>\n",
       "      <td>[senate, democrat, eliminated, filibuster, app...</td>\n",
       "    </tr>\n",
       "    <tr>\n",
       "      <td>116621</td>\n",
       "      <td>[chemchina, cnncc, set, secure, conditional, a...</td>\n",
       "    </tr>\n",
       "    <tr>\n",
       "      <td>...</td>\n",
       "      <td>...</td>\n",
       "    </tr>\n",
       "    <tr>\n",
       "      <td>77573</td>\n",
       "      <td>[fall, aleppo, week, barack, obama, leaf, offi...</td>\n",
       "    </tr>\n",
       "    <tr>\n",
       "      <td>120289</td>\n",
       "      <td>[financial, technology, firm, brazil, targetin...</td>\n",
       "    </tr>\n",
       "    <tr>\n",
       "      <td>31853</td>\n",
       "      <td>[washington, cnn, sen, jeff, merkley, announce...</td>\n",
       "    </tr>\n",
       "    <tr>\n",
       "      <td>25165</td>\n",
       "      <td>[congressman, kevin, cramer, say, ready, fight...</td>\n",
       "    </tr>\n",
       "    <tr>\n",
       "      <td>65636</td>\n",
       "      <td>[president, obama, choice, merrick, garland, s...</td>\n",
       "    </tr>\n",
       "  </tbody>\n",
       "</table>\n",
       "<p>2959 rows × 1 columns</p>\n",
       "</div>"
      ],
      "text/plain": [
       "                                                  content\n",
       "105974  [new, york, mayor, bill, blasio, plan, close, ...\n",
       "70995   [watch, video, video, message, released, monda...\n",
       "37094   [cnn, finally, know, video, workshop, frank, o...\n",
       "77363   [senate, democrat, eliminated, filibuster, app...\n",
       "116621  [chemchina, cnncc, set, secure, conditional, a...\n",
       "...                                                   ...\n",
       "77573   [fall, aleppo, week, barack, obama, leaf, offi...\n",
       "120289  [financial, technology, firm, brazil, targetin...\n",
       "31853   [washington, cnn, sen, jeff, merkley, announce...\n",
       "25165   [congressman, kevin, cramer, say, ready, fight...\n",
       "65636   [president, obama, choice, merrick, garland, s...\n",
       "\n",
       "[2959 rows x 1 columns]"
      ]
     },
     "execution_count": 17,
     "metadata": {},
     "output_type": "execute_result"
    }
   ],
   "source": [
    "df_fake_sample.dropna(inplace=True)\n",
    "df_fake_sample"
   ]
  },
  {
   "cell_type": "code",
   "execution_count": 20,
   "metadata": {},
   "outputs": [],
   "source": [
    "df_real_sample['content'] =[  ' '.join(l)  for l in df_real_sample['content'] ]\n",
    "df_fake_sample['content'] =[  ' '.join(l)  for l in df_fake_sample['content'] ]"
   ]
  },
  {
   "cell_type": "code",
   "execution_count": 22,
   "metadata": {},
   "outputs": [],
   "source": [
    "df_real_sample.to_csv(smallerset_real,index=False,encoding=\"utf8\")\n",
    "df_fake_sample.to_csv(smallerset_fake,index=False,encoding=\"utf8\")"
   ]
  },
  {
   "cell_type": "code",
   "execution_count": 25,
   "metadata": {},
   "outputs": [],
   "source": [
    "df_real_sample['label']=1\n",
    "df_fake_sample['label']=0\n",
    "df=pd.concat([df_real_sample,df_fake_sample])\n",
    "df.sample(frac=1)\n",
    "y=df.label\n",
    "df=df.drop('label',axis=1)"
   ]
  },
  {
   "cell_type": "code",
   "execution_count": null,
   "metadata": {},
   "outputs": [],
   "source": []
  },
  {
   "cell_type": "code",
   "execution_count": 29,
   "metadata": {},
   "outputs": [],
   "source": [
    "from sklearn.model_selection import train_test_split\n",
    "\n",
    "from sklearn.feature_extraction.text import CountVectorizer\n",
    "from sklearn.feature_extraction.text import TfidfVectorizer\n",
    "from sklearn.feature_extraction.text import HashingVectorizer\n",
    "\n",
    "from sklearn.naive_bayes import MultinomialNB\n",
    "from sklearn import svm\n",
    "from sklearn.naive_bayes import GaussianNB\n",
    "\n",
    "from sklearn import metrics\n",
    "\n"
   ]
  },
  {
   "cell_type": "code",
   "execution_count": null,
   "metadata": {},
   "outputs": [],
   "source": []
  },
  {
   "cell_type": "code",
   "execution_count": 35,
   "metadata": {},
   "outputs": [],
   "source": [
    "xtrain,xtest,ytrain,ytest= train_test_split(df['content'],y,test_size=0.05,random_state=60)"
   ]
  },
  {
   "cell_type": "code",
   "execution_count": 51,
   "metadata": {},
   "outputs": [
    {
     "name": "stdout",
     "output_type": "stream",
     "text": [
      "(5621, 10000)\n",
      "(296, 10000)\n"
     ]
    }
   ],
   "source": [
    "countvectorizer =CountVectorizer(stop_words='english' , max_features=10000)\n",
    "ctrainx=countvectorizer.fit_transform(xtrain)\n",
    "ctestx=countvectorizer.transform(xtest)\n",
    "print(ctrainx.shape)\n",
    "print(ctestx.shape)"
   ]
  },
  {
   "cell_type": "code",
   "execution_count": 54,
   "metadata": {},
   "outputs": [
    {
     "name": "stdout",
     "output_type": "stream",
     "text": [
      "(5621, 8000)\n",
      "(296, 8000)\n"
     ]
    }
   ],
   "source": [
    "tfidf_vectorizer = TfidfVectorizer( max_df=0.7 ,max_features=8000)\n",
    "ttrainx = tfidf_vectorizer.fit_transform(xtrain)\n",
    "ttestx = tfidf_vectorizer.transform(xtest)\n",
    "print(ttrainx.shape)\n",
    "print(ttestx.shape)"
   ]
  },
  {
   "cell_type": "code",
   "execution_count": null,
   "metadata": {},
   "outputs": [],
   "source": []
  },
  {
   "cell_type": "code",
   "execution_count": null,
   "metadata": {},
   "outputs": [],
   "source": []
  },
  {
   "cell_type": "code",
   "execution_count": 55,
   "metadata": {},
   "outputs": [
    {
     "data": {
      "text/plain": [
       "0.42567567567567566"
      ]
     },
     "execution_count": 55,
     "metadata": {},
     "output_type": "execute_result"
    }
   ],
   "source": [
    "# MultinomialNB    count vector\n",
    "classifier =MultinomialNB(alpha=0.03)\n",
    "classifier.fit(ctrainx,ytrain)\n",
    "ctestres=classifier.predict(ctestx)\n",
    "score =metrics.accuracy_score(ytest,ctestres)\n",
    "score"
   ]
  },
  {
   "cell_type": "code",
   "execution_count": 56,
   "metadata": {},
   "outputs": [
    {
     "data": {
      "text/plain": [
       "0.4527027027027027"
      ]
     },
     "execution_count": 56,
     "metadata": {},
     "output_type": "execute_result"
    }
   ],
   "source": [
    "# MultinomialNB    tfidf vector\n",
    "classifier =MultinomialNB(alpha=0.03)\n",
    "classifier.fit(ttrainx,ytrain)\n",
    "ttestres=classifier.predict(ttestx)\n",
    "score =metrics.accuracy_score(ytest,ttestres)\n",
    "score\n",
    "\n"
   ]
  },
  {
   "cell_type": "code",
   "execution_count": null,
   "metadata": {},
   "outputs": [],
   "source": []
  },
  {
   "cell_type": "code",
   "execution_count": 65,
   "metadata": {},
   "outputs": [],
   "source": [
    "# clf = svm.SVC(kernel='linear')\n",
    "# clf = svm.SVC(kernel='rbf' ,C=1 ,gamma=0.1)   # kernel='rbf'\n",
    "# clf = svm.SVC(kernel='sigmoid')   #sigmoid \n",
    "clf = svm.SVC(kernel='poly' ,degree=2 ,C=1 ,gamma=0.1)  #kernel  =poly\n",
    "clf.fit(ttrainx, ytrain)\n",
    "y_pred = clf.predict(ttestx)"
   ]
  },
  {
   "cell_type": "code",
   "execution_count": 66,
   "metadata": {},
   "outputs": [
    {
     "data": {
      "text/plain": [
       "0.5"
      ]
     },
     "execution_count": 66,
     "metadata": {},
     "output_type": "execute_result"
    }
   ],
   "source": [
    "score=metrics.accuracy_score(ytest,y_pred)\n",
    "score"
   ]
  },
  {
   "cell_type": "code",
   "execution_count": null,
   "metadata": {},
   "outputs": [],
   "source": []
  }
 ],
 "metadata": {
  "kernelspec": {
   "display_name": "Python 3",
   "language": "python",
   "name": "python3"
  },
  "language_info": {
   "codemirror_mode": {
    "name": "ipython",
    "version": 3
   },
   "file_extension": ".py",
   "mimetype": "text/x-python",
   "name": "python",
   "nbconvert_exporter": "python",
   "pygments_lexer": "ipython3",
   "version": "3.7.4"
  }
 },
 "nbformat": 4,
 "nbformat_minor": 4
}
