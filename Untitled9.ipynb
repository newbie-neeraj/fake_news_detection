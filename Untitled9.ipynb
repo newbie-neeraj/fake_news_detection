{
 "cells": [
  {
   "cell_type": "code",
   "execution_count": 191,
   "metadata": {},
   "outputs": [
    {
     "name": "stdout",
     "output_type": "stream",
     "text": [
      "['articles1.csv', 'articles2.csv', 'articles3.csv']\n",
      "['fake.csv']\n",
      "['fake_dataset.csv', 'real_dataset.csv', 'total_dataset.csv']\n",
      "Requirement already satisfied: gensim in d:\\setup_files_2\\anaconda3\\lib\\site-packages (3.8.1)\n",
      "Requirement already satisfied: numpy>=1.11.3 in d:\\setup_files_2\\anaconda3\\lib\\site-packages (from gensim) (1.16.5)\n",
      "Requirement already satisfied: six>=1.5.0 in d:\\setup_files_2\\anaconda3\\lib\\site-packages (from gensim) (1.12.0)\n",
      "Requirement already satisfied: smart-open>=1.8.1 in d:\\setup_files_2\\anaconda3\\lib\\site-packages (from gensim) (1.9.0)\n",
      "Requirement already satisfied: scipy>=0.18.1 in d:\\setup_files_2\\anaconda3\\lib\\site-packages (from gensim) (1.3.1)\n",
      "Requirement already satisfied: boto>=2.32 in d:\\setup_files_2\\anaconda3\\lib\\site-packages (from smart-open>=1.8.1->gensim) (2.49.0)\n",
      "Requirement already satisfied: requests in d:\\setup_files_2\\anaconda3\\lib\\site-packages (from smart-open>=1.8.1->gensim) (2.22.0)\n",
      "Requirement already satisfied: boto3 in d:\\setup_files_2\\anaconda3\\lib\\site-packages (from smart-open>=1.8.1->gensim) (1.11.13)\n",
      "Requirement already satisfied: chardet<3.1.0,>=3.0.2 in d:\\setup_files_2\\anaconda3\\lib\\site-packages (from requests->smart-open>=1.8.1->gensim) (3.0.4)\n",
      "Requirement already satisfied: certifi>=2017.4.17 in d:\\setup_files_2\\anaconda3\\lib\\site-packages (from requests->smart-open>=1.8.1->gensim) (2019.9.11)\n",
      "Requirement already satisfied: urllib3!=1.25.0,!=1.25.1,<1.26,>=1.21.1 in d:\\setup_files_2\\anaconda3\\lib\\site-packages (from requests->smart-open>=1.8.1->gensim) (1.24.2)\n",
      "Requirement already satisfied: idna<2.9,>=2.5 in d:\\setup_files_2\\anaconda3\\lib\\site-packages (from requests->smart-open>=1.8.1->gensim) (2.8)\n",
      "Requirement already satisfied: s3transfer<0.4.0,>=0.3.0 in d:\\setup_files_2\\anaconda3\\lib\\site-packages (from boto3->smart-open>=1.8.1->gensim) (0.3.3)\n",
      "Requirement already satisfied: botocore<1.15.0,>=1.14.13 in d:\\setup_files_2\\anaconda3\\lib\\site-packages (from boto3->smart-open>=1.8.1->gensim) (1.14.13)\n",
      "Requirement already satisfied: jmespath<1.0.0,>=0.7.1 in d:\\setup_files_2\\anaconda3\\lib\\site-packages (from boto3->smart-open>=1.8.1->gensim) (0.9.4)\n",
      "Requirement already satisfied: docutils<0.16,>=0.10 in d:\\setup_files_2\\anaconda3\\lib\\site-packages (from botocore<1.15.0,>=1.14.13->boto3->smart-open>=1.8.1->gensim) (0.15.2)\n",
      "Requirement already satisfied: python-dateutil<3.0.0,>=2.1 in d:\\setup_files_2\\anaconda3\\lib\\site-packages (from botocore<1.15.0,>=1.14.13->boto3->smart-open>=1.8.1->gensim) (2.8.0)\n",
      "Requirement already satisfied: lightgbm in d:\\setup_files_2\\anaconda3\\lib\\site-packages (2.3.1)\n",
      "Requirement already satisfied: scikit-learn in d:\\setup_files_2\\anaconda3\\lib\\site-packages (from lightgbm) (0.21.3)\n",
      "Requirement already satisfied: numpy in d:\\setup_files_2\\anaconda3\\lib\\site-packages (from lightgbm) (1.16.5)\n",
      "Requirement already satisfied: scipy in d:\\setup_files_2\\anaconda3\\lib\\site-packages (from lightgbm) (1.3.1)\n",
      "Requirement already satisfied: joblib>=0.11 in d:\\setup_files_2\\anaconda3\\lib\\site-packages (from scikit-learn->lightgbm) (0.13.2)\n"
     ]
    }
   ],
   "source": [
    "from os import listdir\n",
    "from os.path import isfile, join\n",
    "import pandas as pd\n",
    "\n",
    "path_base_original_real=\"C:\\dataset\\original_dataset\\\\real\"\n",
    "path_base_original_fake=\"C:\\dataset\\original_dataset\\\\fake\"\n",
    "fullpath_fake=path_base_original_fake+\"\\\\fake.csv\"\n",
    "path_base_modified=\"C:\\dataset\\processed_datatset\"\n",
    "fullpath_modified=path_base_modified+\"\\\\total_dataset.csv\"\n",
    "path_modified_onlyreal=path_base_modified+\"\\\\real_dataset.csv\"\n",
    "path_modified_onlyfake=path_base_modified+\"\\\\fake_dataset.csv\"\n",
    "\n",
    "\n",
    "originaldataset_real = [f for f in listdir(path_base_original_real) if isfile(join(path_base_original_real, f))]\n",
    "print(originaldataset_real)\n",
    "\n",
    "originaldataset_fake = [f for f in listdir(path_base_original_fake) if isfile(join(path_base_original_fake, f))]\n",
    "print(originaldataset_fake)\n",
    "\n",
    "mofified_data = [f for f in listdir(path_base_modified) if isfile(join(path_base_modified, f))]\n",
    "print(mofified_data)\n",
    "\n",
    "!pip install gensim\n",
    "!pip install lightgbm\n",
    "\n",
    "import re \n",
    "import nltk\n",
    "# nltk.download('stopwords')\n",
    "from nltk.corpus import stopwords \n",
    "from nltk.stem.porter import PorterStemmer\n",
    "from gensim.models import word2vec\n"
   ]
  },
  {
   "cell_type": "code",
   "execution_count": 192,
   "metadata": {},
   "outputs": [],
   "source": [
    "import seaborn as sns\n",
    "color = sns.color_palette()"
   ]
  },
  {
   "cell_type": "code",
   "execution_count": 193,
   "metadata": {},
   "outputs": [],
   "source": [
    "fullpath_modified_testing=path_base_modified+\"\\\\total_dataset.csv\"\n",
    "df_total=pd.read_csv(fullpath_modified_testing)"
   ]
  },
  {
   "cell_type": "code",
   "execution_count": 194,
   "metadata": {},
   "outputs": [
    {
     "data": {
      "text/html": [
       "<div>\n",
       "<style scoped>\n",
       "    .dataframe tbody tr th:only-of-type {\n",
       "        vertical-align: middle;\n",
       "    }\n",
       "\n",
       "    .dataframe tbody tr th {\n",
       "        vertical-align: top;\n",
       "    }\n",
       "\n",
       "    .dataframe thead th {\n",
       "        text-align: right;\n",
       "    }\n",
       "</style>\n",
       "<table border=\"1\" class=\"dataframe\">\n",
       "  <thead>\n",
       "    <tr style=\"text-align: right;\">\n",
       "      <th></th>\n",
       "      <th>title</th>\n",
       "      <th>content</th>\n",
       "      <th>label</th>\n",
       "    </tr>\n",
       "  </thead>\n",
       "  <tbody>\n",
       "    <tr>\n",
       "      <td>0</td>\n",
       "      <td>House Republicans Fret About Winning Their Hea...</td>\n",
       "      <td>WASHINGTON  —   Congressional Republicans have...</td>\n",
       "      <td>1</td>\n",
       "    </tr>\n",
       "    <tr>\n",
       "      <td>1</td>\n",
       "      <td>Rift Between Officers and Residents as Killing...</td>\n",
       "      <td>After the bullet shells get counted, the blood...</td>\n",
       "      <td>1</td>\n",
       "    </tr>\n",
       "    <tr>\n",
       "      <td>2</td>\n",
       "      <td>Tyrus Wong, ‘Bambi’ Artist Thwarted by Racial ...</td>\n",
       "      <td>When Walt Disney’s “Bambi” opened in 1942, cri...</td>\n",
       "      <td>1</td>\n",
       "    </tr>\n",
       "    <tr>\n",
       "      <td>3</td>\n",
       "      <td>Among Deaths in 2016, a Heavy Toll in Pop Musi...</td>\n",
       "      <td>Death may be the great equalizer, but it isn’t...</td>\n",
       "      <td>1</td>\n",
       "    </tr>\n",
       "    <tr>\n",
       "      <td>4</td>\n",
       "      <td>Kim Jong-un Says North Korea Is Preparing to T...</td>\n",
       "      <td>SEOUL, South Korea  —   North Korea’s leader, ...</td>\n",
       "      <td>1</td>\n",
       "    </tr>\n",
       "  </tbody>\n",
       "</table>\n",
       "</div>"
      ],
      "text/plain": [
       "                                               title  \\\n",
       "0  House Republicans Fret About Winning Their Hea...   \n",
       "1  Rift Between Officers and Residents as Killing...   \n",
       "2  Tyrus Wong, ‘Bambi’ Artist Thwarted by Racial ...   \n",
       "3  Among Deaths in 2016, a Heavy Toll in Pop Musi...   \n",
       "4  Kim Jong-un Says North Korea Is Preparing to T...   \n",
       "\n",
       "                                             content  label  \n",
       "0  WASHINGTON  —   Congressional Republicans have...      1  \n",
       "1  After the bullet shells get counted, the blood...      1  \n",
       "2  When Walt Disney’s “Bambi” opened in 1942, cri...      1  \n",
       "3  Death may be the great equalizer, but it isn’t...      1  \n",
       "4  SEOUL, South Korea  —   North Korea’s leader, ...      1  "
      ]
     },
     "execution_count": 194,
     "metadata": {},
     "output_type": "execute_result"
    }
   ],
   "source": [
    "df_total.head()"
   ]
  },
  {
   "cell_type": "code",
   "execution_count": 195,
   "metadata": {},
   "outputs": [
    {
     "name": "stderr",
     "output_type": "stream",
     "text": [
      "[nltk_data] Downloading package wordnet to C:\\Users\\NEERAJ\n",
      "[nltk_data]     KUMAR\\AppData\\Roaming\\nltk_data...\n",
      "[nltk_data]   Package wordnet is already up-to-date!\n"
     ]
    },
    {
     "data": {
      "text/plain": [
       "True"
      ]
     },
     "execution_count": 195,
     "metadata": {},
     "output_type": "execute_result"
    }
   ],
   "source": [
    "from nltk.stem import WordNetLemmatizer \n",
    "lemmatizer = WordNetLemmatizer() \n",
    "nltk.download('wordnet')"
   ]
  },
  {
   "cell_type": "code",
   "execution_count": 196,
   "metadata": {},
   "outputs": [],
   "source": [
    "def cleaningbody(txt):\n",
    "    \n",
    "    review = txt.split()\n",
    "    if len(review)<15:\n",
    "        return None\n",
    "    \n",
    "    review = re.sub('[^a-zA-Z]', ' ', txt) # Cleans all except characters\n",
    "    review = review.lower()\n",
    "    review = review.split()\n",
    "    review = [lemmatizer.lemmatize(word) for word in review if not word in set(stopwords.words('english'))]\n",
    "#     if review.size()<\n",
    "#     ps = PorterStemmer()\n",
    "#     review = [ps.stem(word) for word in review if not word in set(stopwords.words('english'))]\n",
    "    review = ' '.join(review)\n",
    "    return review\n",
    "    "
   ]
  },
  {
   "cell_type": "code",
   "execution_count": 197,
   "metadata": {},
   "outputs": [],
   "source": [
    "def cleaningtitle(txt):\n",
    "    \n",
    "    review = txt.split()\n",
    "    if len(review)<5:\n",
    "        return None\n",
    "    \n",
    "    review = re.sub('[^a-zA-Z]', ' ', txt) # Cleans all except characters\n",
    "    review = review.lower()\n",
    "    review = review.split()\n",
    "    review = [lemmatizer.lemmatize(word) for word in review if not word in set(stopwords.words('english'))]\n",
    "#     ps = PorterStemmer()\n",
    "#     review = [ps.stem(word) for word in review if not word in set(stopwords.words('english'))]\n",
    "    review = ' '.join(review)\n",
    "    return review\n",
    "    "
   ]
  },
  {
   "cell_type": "code",
   "execution_count": 198,
   "metadata": {},
   "outputs": [],
   "source": [
    "# path_modified_onlyreal\n",
    "smallerset_real=path_base_modified+\"smallerset_real.csv\"\n",
    "df_real=pd.read_csv(path_modified_onlyreal)\n",
    "df_real_sample =df_real.sample(n=1000)\n",
    "df_real_sample.to_csv(smallerset_real,index=False,encoding=\"utf8\")\n",
    "\n",
    "\n",
    "\n",
    "\n",
    "# path_modified_onlyfake\n",
    "# smallerset_fake=path_base_modified+\"smallerset_fake.csv\"\n",
    "# df_fake=pd.read_csv(path_modified_onlyfake)\n",
    "# df_fake_sample =df_real.sample(n=1000)\n",
    "# df_fake_sample.to_csv(smallerset_fake,index=False,encoding=\"utf8\")\n",
    "\n"
   ]
  },
  {
   "cell_type": "code",
   "execution_count": 199,
   "metadata": {},
   "outputs": [],
   "source": [
    "\n",
    "# path_modified_onlyfake\n",
    "smallerset_fake=path_base_modified+\"smallerset_fake.csv\"\n",
    "df_fake=pd.read_csv(path_modified_onlyfake)\n",
    "df_fake_sample =df_real.sample(n=1000)\n",
    "df_fake_sample.to_csv(smallerset_fake,index=False,encoding=\"utf8\")\n"
   ]
  },
  {
   "cell_type": "code",
   "execution_count": 200,
   "metadata": {},
   "outputs": [],
   "source": [
    "# step 2  reg , lower\n",
    "df_real_sample['title'] = df_real_sample['title'].apply(lambda x: cleaningtitle(x))\n",
    "df_real_sample['content'] = df_real_sample['content'].apply(lambda x: cleaningbody(x))\n",
    "df_real_sample.to_csv(smallerset_real,index=False,encoding=\"utf8\")\n",
    "\n",
    "\n",
    "\n",
    "# df_fake_sample.to_csv(smallerset_fake,index=False,encoding=\"utf8\")"
   ]
  },
  {
   "cell_type": "code",
   "execution_count": 201,
   "metadata": {},
   "outputs": [],
   "source": [
    "# step 2  reg , lower\n",
    "df_fake_sample['title'] = df_fake_sample['title'].apply(lambda x: cleaningtitle(x))\n",
    "df_fake_sample['content'] = df_fake_sample['content'].apply(lambda x: cleaningbody(x))\n",
    "\n",
    "df_fake_sample.to_csv(smallerset_fake,index=False,encoding=\"utf8\")"
   ]
  },
  {
   "cell_type": "code",
   "execution_count": 202,
   "metadata": {},
   "outputs": [],
   "source": [
    "# path_base_modified=\"C:\\dataset\\processed_datatset\"\n",
    " \n",
    "\n",
    "# path_modified_onlyreal_merged heading body\n",
    "smallerset_real_merged=path_base_modified+\"smallerset_real_merged.csv\"\n",
    "df_real_merged=pd.read_csv(smallerset_real,usecols=[1])\n",
    "df_real_merged.to_csv(smallerset_real_merged,index=False,encoding=\"utf8\")\n"
   ]
  },
  {
   "cell_type": "code",
   "execution_count": 203,
   "metadata": {},
   "outputs": [
    {
     "data": {
      "text/plain": [
       "(1000, 1)"
      ]
     },
     "execution_count": 203,
     "metadata": {},
     "output_type": "execute_result"
    }
   ],
   "source": [
    "df_real_merged.shape"
   ]
  },
  {
   "cell_type": "code",
   "execution_count": 204,
   "metadata": {},
   "outputs": [
    {
     "data": {
      "text/html": [
       "<div>\n",
       "<style scoped>\n",
       "    .dataframe tbody tr th:only-of-type {\n",
       "        vertical-align: middle;\n",
       "    }\n",
       "\n",
       "    .dataframe tbody tr th {\n",
       "        vertical-align: top;\n",
       "    }\n",
       "\n",
       "    .dataframe thead th {\n",
       "        text-align: right;\n",
       "    }\n",
       "</style>\n",
       "<table border=\"1\" class=\"dataframe\">\n",
       "  <thead>\n",
       "    <tr style=\"text-align: right;\">\n",
       "      <th></th>\n",
       "      <th>content</th>\n",
       "    </tr>\n",
       "  </thead>\n",
       "  <tbody>\n",
       "    <tr>\n",
       "      <td>0</td>\n",
       "      <td>npr invited observe two focus group swing vote...</td>\n",
       "    </tr>\n",
       "    <tr>\n",
       "      <td>1</td>\n",
       "      <td>president donald trump first official budget d...</td>\n",
       "    </tr>\n",
       "    <tr>\n",
       "      <td>2</td>\n",
       "      <td>phew really right night fair much better right...</td>\n",
       "    </tr>\n",
       "    <tr>\n",
       "      <td>3</td>\n",
       "      <td>jared grusd ceo huffington post spoke dublin t...</td>\n",
       "    </tr>\n",
       "    <tr>\n",
       "      <td>4</td>\n",
       "      <td>thursday press conference announce pick alexan...</td>\n",
       "    </tr>\n",
       "  </tbody>\n",
       "</table>\n",
       "</div>"
      ],
      "text/plain": [
       "                                             content\n",
       "0  npr invited observe two focus group swing vote...\n",
       "1  president donald trump first official budget d...\n",
       "2  phew really right night fair much better right...\n",
       "3  jared grusd ceo huffington post spoke dublin t...\n",
       "4  thursday press conference announce pick alexan..."
      ]
     },
     "execution_count": 204,
     "metadata": {},
     "output_type": "execute_result"
    }
   ],
   "source": [
    "df_real_merged.head()"
   ]
  },
  {
   "cell_type": "code",
   "execution_count": 205,
   "metadata": {},
   "outputs": [],
   "source": [
    "df_real_merged.to_csv(smallerset_real_merged,index=False,encoding=\"utf8\")"
   ]
  },
  {
   "cell_type": "code",
   "execution_count": 206,
   "metadata": {},
   "outputs": [],
   "source": [
    "smallerset_fake_merged=path_base_modified+\"smallerset_fake_merged.csv\"\n",
    "df_fake_merged=pd.read_csv(smallerset_fake,usecols=[1])\n",
    "df_fake_merged.to_csv(smallerset_fake_merged,index=False,encoding=\"utf8\")"
   ]
  },
  {
   "cell_type": "code",
   "execution_count": null,
   "metadata": {},
   "outputs": [],
   "source": []
  },
  {
   "cell_type": "code",
   "execution_count": null,
   "metadata": {},
   "outputs": [],
   "source": []
  },
  {
   "cell_type": "code",
   "execution_count": null,
   "metadata": {},
   "outputs": [],
   "source": []
  },
  {
   "cell_type": "code",
   "execution_count": 222,
   "metadata": {},
   "outputs": [
    {
     "name": "stdout",
     "output_type": "stream",
     "text": [
      "(998, 1)\n",
      "(998, 1)\n",
      "(1000, 1)\n",
      "(998, 1)\n"
     ]
    }
   ],
   "source": [
    "print(df_real_merged.shape)\n",
    "df_real_merged.dropna(subset=['content'], inplace=True)\n",
    "print(df_real_merged.shape)\n",
    "\n",
    "\n",
    "print(df_fake_merged.shape)\n",
    "df_fake_merged.dropna(subset=['content'], inplace=True)\n",
    "print(df_fake_merged.shape)\n",
    "\n",
    "\n",
    "\n",
    "# real_tokens= nltk.word_tokenize(\" \".join(df_real_merged.content.tolist()))"
   ]
  },
  {
   "cell_type": "code",
   "execution_count": 223,
   "metadata": {},
   "outputs": [],
   "source": [
    "real_tokens= nltk.word_tokenize(\" \".join(df_real_merged.content.tolist()))"
   ]
  },
  {
   "cell_type": "code",
   "execution_count": 224,
   "metadata": {},
   "outputs": [
    {
     "data": {
      "text/plain": [
       "406055"
      ]
     },
     "execution_count": 224,
     "metadata": {},
     "output_type": "execute_result"
    }
   ],
   "source": [
    "len(real_tokens)"
   ]
  },
  {
   "cell_type": "code",
   "execution_count": 225,
   "metadata": {},
   "outputs": [
    {
     "data": {
      "text/plain": [
       "list"
      ]
     },
     "execution_count": 225,
     "metadata": {},
     "output_type": "execute_result"
    }
   ],
   "source": [
    "type(real_tokens)"
   ]
  },
  {
   "cell_type": "code",
   "execution_count": 214,
   "metadata": {},
   "outputs": [],
   "source": [
    "# real_tokens = real_tokens[1:100]"
   ]
  },
  {
   "cell_type": "code",
   "execution_count": 226,
   "metadata": {},
   "outputs": [],
   "source": [
    "from collections import Counter"
   ]
  },
  {
   "cell_type": "code",
   "execution_count": 227,
   "metadata": {},
   "outputs": [],
   "source": [
    "word_count_dict= Counter(real_tokens) "
   ]
  },
  {
   "cell_type": "code",
   "execution_count": 228,
   "metadata": {},
   "outputs": [],
   "source": [
    "# type(word_count_dict)\n",
    "word_count_dict =dict(word_count_dict)\n",
    "df1 = pd.DataFrame(word_count_dict,index=[0])\n",
    "# df1 = df1.rename(columns={'index':'word', 0:'count'})\n",
    "# df1.set_index('word')"
   ]
  },
  {
   "cell_type": "code",
   "execution_count": 229,
   "metadata": {},
   "outputs": [
    {
     "data": {
      "text/html": [
       "<div>\n",
       "<style scoped>\n",
       "    .dataframe tbody tr th:only-of-type {\n",
       "        vertical-align: middle;\n",
       "    }\n",
       "\n",
       "    .dataframe tbody tr th {\n",
       "        vertical-align: top;\n",
       "    }\n",
       "\n",
       "    .dataframe thead th {\n",
       "        text-align: right;\n",
       "    }\n",
       "</style>\n",
       "<table border=\"1\" class=\"dataframe\">\n",
       "  <thead>\n",
       "    <tr style=\"text-align: right;\">\n",
       "      <th></th>\n",
       "      <th>npr</th>\n",
       "      <th>invited</th>\n",
       "      <th>observe</th>\n",
       "      <th>two</th>\n",
       "      <th>focus</th>\n",
       "      <th>group</th>\n",
       "      <th>swing</th>\n",
       "      <th>voter</th>\n",
       "      <th>ohio</th>\n",
       "      <th>arizona</th>\n",
       "      <th>...</th>\n",
       "      <th>standouts</th>\n",
       "      <th>samurai</th>\n",
       "      <th>riz</th>\n",
       "      <th>weitz</th>\n",
       "      <th>gilroy</th>\n",
       "      <th>droid</th>\n",
       "      <th>reprogrammed</th>\n",
       "      <th>tudyk</th>\n",
       "      <th>snappy</th>\n",
       "      <th>imperfection</th>\n",
       "    </tr>\n",
       "  </thead>\n",
       "  <tbody>\n",
       "    <tr>\n",
       "      <td>0</td>\n",
       "      <td>47</td>\n",
       "      <td>25</td>\n",
       "      <td>8</td>\n",
       "      <td>904</td>\n",
       "      <td>104</td>\n",
       "      <td>559</td>\n",
       "      <td>21</td>\n",
       "      <td>292</td>\n",
       "      <td>57</td>\n",
       "      <td>76</td>\n",
       "      <td>...</td>\n",
       "      <td>1</td>\n",
       "      <td>1</td>\n",
       "      <td>1</td>\n",
       "      <td>1</td>\n",
       "      <td>1</td>\n",
       "      <td>1</td>\n",
       "      <td>1</td>\n",
       "      <td>1</td>\n",
       "      <td>1</td>\n",
       "      <td>1</td>\n",
       "    </tr>\n",
       "  </tbody>\n",
       "</table>\n",
       "<p>1 rows × 28822 columns</p>\n",
       "</div>"
      ],
      "text/plain": [
       "   npr  invited  observe  two  focus  group  swing  voter  ohio  arizona  ...  \\\n",
       "0   47       25        8  904    104    559     21    292    57       76  ...   \n",
       "\n",
       "   standouts  samurai  riz  weitz  gilroy  droid  reprogrammed  tudyk  snappy  \\\n",
       "0          1        1    1      1       1      1             1      1       1   \n",
       "\n",
       "   imperfection  \n",
       "0             1  \n",
       "\n",
       "[1 rows x 28822 columns]"
      ]
     },
     "execution_count": 229,
     "metadata": {},
     "output_type": "execute_result"
    }
   ],
   "source": [
    "df1.head()"
   ]
  },
  {
   "cell_type": "code",
   "execution_count": 230,
   "metadata": {},
   "outputs": [
    {
     "name": "stdout",
     "output_type": "stream",
     "text": [
      "(1, 28822)\n"
     ]
    }
   ],
   "source": [
    "# print(df1.shape)\n",
    "# df_t =df1.T\n",
    "# df1=df_t\n",
    "# print(df1.shape)\n",
    "\n",
    "\n",
    "smallerset_real_count=path_base_modified+\"smallerset_real_count.csv\"\n",
    "df1.to_csv(smallerset_real_count,index=False,encoding=\"utf8\")\n",
    "print(df1.shape)"
   ]
  },
  {
   "cell_type": "code",
   "execution_count": 189,
   "metadata": {},
   "outputs": [],
   "source": [
    "\n",
    "# df1.set_index('word')"
   ]
  },
  {
   "cell_type": "code",
   "execution_count": 146,
   "metadata": {},
   "outputs": [],
   "source": []
  },
  {
   "cell_type": "code",
   "execution_count": 147,
   "metadata": {},
   "outputs": [],
   "source": []
  },
  {
   "cell_type": "code",
   "execution_count": null,
   "metadata": {},
   "outputs": [],
   "source": []
  },
  {
   "cell_type": "code",
   "execution_count": null,
   "metadata": {},
   "outputs": [],
   "source": []
  },
  {
   "cell_type": "code",
   "execution_count": 233,
   "metadata": {},
   "outputs": [
    {
     "name": "stdout",
     "output_type": "stream",
     "text": [
      "385899\n",
      "(1, 27720)\n"
     ]
    }
   ],
   "source": [
    "fake_tokens= nltk.word_tokenize(\" \".join(df_fake_merged.content.tolist()))\n",
    "print(len(fake_tokens))\n",
    "word_count_dict= Counter(fake_tokens)\n",
    "word_count_dict =dict(word_count_dict)\n",
    "\n",
    "df2 = pd.DataFrame(word_count_dict,index=[0])\n",
    "print(df2.shape)\n"
   ]
  },
  {
   "cell_type": "code",
   "execution_count": 234,
   "metadata": {},
   "outputs": [],
   "source": [
    "# df2=df2.T\n",
    "# df2.shape\n",
    "# df2.set_index('word')"
   ]
  },
  {
   "cell_type": "code",
   "execution_count": 235,
   "metadata": {},
   "outputs": [],
   "source": [
    "smallerset_fake_count=path_base_modified+\"smallerset_fake_count.csv\"\n",
    "df2.to_csv(smallerset_fake_count,index=False,encoding=\"utf8\")"
   ]
  },
  {
   "cell_type": "code",
   "execution_count": 236,
   "metadata": {},
   "outputs": [],
   "source": [
    "del df_real_merged\n",
    "del df_fake_merged\n",
    "del real_tokens\n",
    "del fake_tokens\n",
    "\n",
    "\n",
    "\n",
    "\n",
    "\n",
    "\n",
    "# df=pd.concat([df1,df2] ,ignore_index=True, sort=False)"
   ]
  },
  {
   "cell_type": "code",
   "execution_count": 237,
   "metadata": {},
   "outputs": [
    {
     "data": {
      "text/html": [
       "<div>\n",
       "<style scoped>\n",
       "    .dataframe tbody tr th:only-of-type {\n",
       "        vertical-align: middle;\n",
       "    }\n",
       "\n",
       "    .dataframe tbody tr th {\n",
       "        vertical-align: top;\n",
       "    }\n",
       "\n",
       "    .dataframe thead th {\n",
       "        text-align: right;\n",
       "    }\n",
       "</style>\n",
       "<table border=\"1\" class=\"dataframe\">\n",
       "  <thead>\n",
       "    <tr style=\"text-align: right;\">\n",
       "      <th></th>\n",
       "      <th>npr</th>\n",
       "      <th>invited</th>\n",
       "      <th>observe</th>\n",
       "      <th>two</th>\n",
       "      <th>focus</th>\n",
       "      <th>group</th>\n",
       "      <th>swing</th>\n",
       "      <th>voter</th>\n",
       "      <th>ohio</th>\n",
       "      <th>arizona</th>\n",
       "      <th>...</th>\n",
       "      <th>standouts</th>\n",
       "      <th>samurai</th>\n",
       "      <th>riz</th>\n",
       "      <th>weitz</th>\n",
       "      <th>gilroy</th>\n",
       "      <th>droid</th>\n",
       "      <th>reprogrammed</th>\n",
       "      <th>tudyk</th>\n",
       "      <th>snappy</th>\n",
       "      <th>imperfection</th>\n",
       "    </tr>\n",
       "  </thead>\n",
       "  <tbody>\n",
       "    <tr>\n",
       "      <td>0</td>\n",
       "      <td>47</td>\n",
       "      <td>25</td>\n",
       "      <td>8</td>\n",
       "      <td>904</td>\n",
       "      <td>104</td>\n",
       "      <td>559</td>\n",
       "      <td>21</td>\n",
       "      <td>292</td>\n",
       "      <td>57</td>\n",
       "      <td>76</td>\n",
       "      <td>...</td>\n",
       "      <td>1</td>\n",
       "      <td>1</td>\n",
       "      <td>1</td>\n",
       "      <td>1</td>\n",
       "      <td>1</td>\n",
       "      <td>1</td>\n",
       "      <td>1</td>\n",
       "      <td>1</td>\n",
       "      <td>1</td>\n",
       "      <td>1</td>\n",
       "    </tr>\n",
       "  </tbody>\n",
       "</table>\n",
       "<p>1 rows × 28822 columns</p>\n",
       "</div>"
      ],
      "text/plain": [
       "   npr  invited  observe  two  focus  group  swing  voter  ohio  arizona  ...  \\\n",
       "0   47       25        8  904    104    559     21    292    57       76  ...   \n",
       "\n",
       "   standouts  samurai  riz  weitz  gilroy  droid  reprogrammed  tudyk  snappy  \\\n",
       "0          1        1    1      1       1      1             1      1       1   \n",
       "\n",
       "   imperfection  \n",
       "0             1  \n",
       "\n",
       "[1 rows x 28822 columns]"
      ]
     },
     "execution_count": 237,
     "metadata": {},
     "output_type": "execute_result"
    }
   ],
   "source": [
    "df1.head()"
   ]
  },
  {
   "cell_type": "code",
   "execution_count": 238,
   "metadata": {},
   "outputs": [
    {
     "data": {
      "text/html": [
       "<div>\n",
       "<style scoped>\n",
       "    .dataframe tbody tr th:only-of-type {\n",
       "        vertical-align: middle;\n",
       "    }\n",
       "\n",
       "    .dataframe tbody tr th {\n",
       "        vertical-align: top;\n",
       "    }\n",
       "\n",
       "    .dataframe thead th {\n",
       "        text-align: right;\n",
       "    }\n",
       "</style>\n",
       "<table border=\"1\" class=\"dataframe\">\n",
       "  <thead>\n",
       "    <tr style=\"text-align: right;\">\n",
       "      <th></th>\n",
       "      <th>cnn</th>\n",
       "      <th>adele</th>\n",
       "      <th>swept</th>\n",
       "      <th>top</th>\n",
       "      <th>honor</th>\n",
       "      <th>th</th>\n",
       "      <th>annual</th>\n",
       "      <th>grammy</th>\n",
       "      <th>award</th>\n",
       "      <th>night</th>\n",
       "      <th>...</th>\n",
       "      <th>witwit</th>\n",
       "      <th>sihha</th>\n",
       "      <th>amro</th>\n",
       "      <th>meudt</th>\n",
       "      <th>bloodletting</th>\n",
       "      <th>exporter</th>\n",
       "      <th>patrolled</th>\n",
       "      <th>qatari</th>\n",
       "      <th>maher</th>\n",
       "      <th>chmaytelli</th>\n",
       "    </tr>\n",
       "  </thead>\n",
       "  <tbody>\n",
       "    <tr>\n",
       "      <td>0</td>\n",
       "      <td>294</td>\n",
       "      <td>17</td>\n",
       "      <td>13</td>\n",
       "      <td>224</td>\n",
       "      <td>38</td>\n",
       "      <td>135</td>\n",
       "      <td>41</td>\n",
       "      <td>9</td>\n",
       "      <td>54</td>\n",
       "      <td>349</td>\n",
       "      <td>...</td>\n",
       "      <td>1</td>\n",
       "      <td>1</td>\n",
       "      <td>1</td>\n",
       "      <td>1</td>\n",
       "      <td>1</td>\n",
       "      <td>1</td>\n",
       "      <td>1</td>\n",
       "      <td>1</td>\n",
       "      <td>1</td>\n",
       "      <td>1</td>\n",
       "    </tr>\n",
       "  </tbody>\n",
       "</table>\n",
       "<p>1 rows × 27720 columns</p>\n",
       "</div>"
      ],
      "text/plain": [
       "   cnn  adele  swept  top  honor   th  annual  grammy  award  night  ...  \\\n",
       "0  294     17     13  224     38  135      41       9     54    349  ...   \n",
       "\n",
       "   witwit  sihha  amro  meudt  bloodletting  exporter  patrolled  qatari  \\\n",
       "0       1      1     1      1             1         1          1       1   \n",
       "\n",
       "   maher  chmaytelli  \n",
       "0      1           1  \n",
       "\n",
       "[1 rows x 27720 columns]"
      ]
     },
     "execution_count": 238,
     "metadata": {},
     "output_type": "execute_result"
    }
   ],
   "source": [
    "df2.head()"
   ]
  },
  {
   "cell_type": "code",
   "execution_count": 248,
   "metadata": {},
   "outputs": [
    {
     "data": {
      "text/html": [
       "<div>\n",
       "<style scoped>\n",
       "    .dataframe tbody tr th:only-of-type {\n",
       "        vertical-align: middle;\n",
       "    }\n",
       "\n",
       "    .dataframe tbody tr th {\n",
       "        vertical-align: top;\n",
       "    }\n",
       "\n",
       "    .dataframe thead th {\n",
       "        text-align: right;\n",
       "    }\n",
       "</style>\n",
       "<table border=\"1\" class=\"dataframe\">\n",
       "  <thead>\n",
       "    <tr style=\"text-align: right;\">\n",
       "      <th></th>\n",
       "      <th>npr</th>\n",
       "      <th>invited</th>\n",
       "      <th>observe</th>\n",
       "      <th>two</th>\n",
       "      <th>focus</th>\n",
       "      <th>group</th>\n",
       "      <th>swing</th>\n",
       "      <th>voter</th>\n",
       "      <th>ohio</th>\n",
       "      <th>arizona</th>\n",
       "      <th>...</th>\n",
       "      <th>innis</th>\n",
       "      <th>csula</th>\n",
       "      <th>iskandar</th>\n",
       "      <th>witwit</th>\n",
       "      <th>sihha</th>\n",
       "      <th>amro</th>\n",
       "      <th>meudt</th>\n",
       "      <th>bloodletting</th>\n",
       "      <th>qatari</th>\n",
       "      <th>chmaytelli</th>\n",
       "    </tr>\n",
       "  </thead>\n",
       "  <tbody>\n",
       "    <tr>\n",
       "      <td>0</td>\n",
       "      <td>47</td>\n",
       "      <td>25</td>\n",
       "      <td>8</td>\n",
       "      <td>904</td>\n",
       "      <td>104</td>\n",
       "      <td>559</td>\n",
       "      <td>21</td>\n",
       "      <td>292</td>\n",
       "      <td>57</td>\n",
       "      <td>76</td>\n",
       "      <td>...</td>\n",
       "      <td>NaN</td>\n",
       "      <td>NaN</td>\n",
       "      <td>NaN</td>\n",
       "      <td>NaN</td>\n",
       "      <td>NaN</td>\n",
       "      <td>NaN</td>\n",
       "      <td>NaN</td>\n",
       "      <td>NaN</td>\n",
       "      <td>NaN</td>\n",
       "      <td>NaN</td>\n",
       "    </tr>\n",
       "    <tr>\n",
       "      <td>1</td>\n",
       "      <td>63</td>\n",
       "      <td>21</td>\n",
       "      <td>5</td>\n",
       "      <td>919</td>\n",
       "      <td>105</td>\n",
       "      <td>624</td>\n",
       "      <td>27</td>\n",
       "      <td>317</td>\n",
       "      <td>63</td>\n",
       "      <td>45</td>\n",
       "      <td>...</td>\n",
       "      <td>1.0</td>\n",
       "      <td>1.0</td>\n",
       "      <td>1.0</td>\n",
       "      <td>1.0</td>\n",
       "      <td>1.0</td>\n",
       "      <td>1.0</td>\n",
       "      <td>1.0</td>\n",
       "      <td>1.0</td>\n",
       "      <td>1.0</td>\n",
       "      <td>1.0</td>\n",
       "    </tr>\n",
       "  </tbody>\n",
       "</table>\n",
       "<p>2 rows × 38707 columns</p>\n",
       "</div>"
      ],
      "text/plain": [
       "   npr  invited  observe  two  focus  group  swing  voter  ohio  arizona  ...  \\\n",
       "0   47       25        8  904    104    559     21    292    57       76  ...   \n",
       "1   63       21        5  919    105    624     27    317    63       45  ...   \n",
       "\n",
       "   innis  csula  iskandar  witwit  sihha  amro  meudt  bloodletting  qatari  \\\n",
       "0    NaN    NaN       NaN     NaN    NaN   NaN    NaN           NaN     NaN   \n",
       "1    1.0    1.0       1.0     1.0    1.0   1.0    1.0           1.0     1.0   \n",
       "\n",
       "   chmaytelli  \n",
       "0         NaN  \n",
       "1         1.0  \n",
       "\n",
       "[2 rows x 38707 columns]"
      ]
     },
     "execution_count": 248,
     "metadata": {},
     "output_type": "execute_result"
    }
   ],
   "source": [
    "df=pd.concat([df1,df2] ,ignore_index=True, sort=False)\n",
    "df.head()"
   ]
  },
  {
   "cell_type": "code",
   "execution_count": 249,
   "metadata": {},
   "outputs": [],
   "source": [
    "smaller_final_token=path_base_modified+\"smaller_final_token.csv\"\n",
    "df.to_csv(smaller_final_token,index=False,encoding=\"utf8\")"
   ]
  },
  {
   "cell_type": "code",
   "execution_count": 250,
   "metadata": {},
   "outputs": [
    {
     "data": {
      "text/plain": [
       "20872"
      ]
     },
     "execution_count": 250,
     "metadata": {},
     "output_type": "execute_result"
    }
   ],
   "source": [
    "df.isnull().sum().sum()"
   ]
  },
  {
   "cell_type": "code",
   "execution_count": 251,
   "metadata": {},
   "outputs": [
    {
     "name": "stdout",
     "output_type": "stream",
     "text": [
      "Nan in row  0  :  9885\n",
      "Nan in row  1  :  10987\n"
     ]
    }
   ],
   "source": [
    "for i in range(len(df.index)) :\n",
    "    print(\"Nan in row \", i , \" : \" ,  df.iloc[i].isnull().sum())"
   ]
  },
  {
   "cell_type": "code",
   "execution_count": null,
   "metadata": {},
   "outputs": [],
   "source": []
  },
  {
   "cell_type": "code",
   "execution_count": 252,
   "metadata": {},
   "outputs": [],
   "source": [
    "df.fillna(0,inplace=True)"
   ]
  },
  {
   "cell_type": "code",
   "execution_count": 253,
   "metadata": {},
   "outputs": [
    {
     "data": {
      "text/plain": [
       "0"
      ]
     },
     "execution_count": 253,
     "metadata": {},
     "output_type": "execute_result"
    }
   ],
   "source": [
    "df.isnull().sum().sum()"
   ]
  },
  {
   "cell_type": "code",
   "execution_count": 254,
   "metadata": {},
   "outputs": [
    {
     "name": "stdout",
     "output_type": "stream",
     "text": [
      "Nan in row  0  :  0\n",
      "Nan in row  1  :  0\n"
     ]
    }
   ],
   "source": [
    "for i in range(len(df.index)) :\n",
    "    print(\"Nan in row \", i , \" : \" ,  df.iloc[i].isnull().sum())"
   ]
  },
  {
   "cell_type": "code",
   "execution_count": 255,
   "metadata": {},
   "outputs": [],
   "source": [
    "smaller_final_token=path_base_modified+\"smaller_final_token.csv\"\n",
    "df.to_csv(smaller_final_token,index=False,encoding=\"utf8\")"
   ]
  },
  {
   "cell_type": "code",
   "execution_count": 256,
   "metadata": {},
   "outputs": [
    {
     "data": {
      "text/html": [
       "<div>\n",
       "<style scoped>\n",
       "    .dataframe tbody tr th:only-of-type {\n",
       "        vertical-align: middle;\n",
       "    }\n",
       "\n",
       "    .dataframe tbody tr th {\n",
       "        vertical-align: top;\n",
       "    }\n",
       "\n",
       "    .dataframe thead th {\n",
       "        text-align: right;\n",
       "    }\n",
       "</style>\n",
       "<table border=\"1\" class=\"dataframe\">\n",
       "  <thead>\n",
       "    <tr style=\"text-align: right;\">\n",
       "      <th></th>\n",
       "      <th>npr</th>\n",
       "      <th>invited</th>\n",
       "      <th>observe</th>\n",
       "      <th>two</th>\n",
       "      <th>focus</th>\n",
       "      <th>group</th>\n",
       "      <th>swing</th>\n",
       "      <th>voter</th>\n",
       "      <th>ohio</th>\n",
       "      <th>arizona</th>\n",
       "      <th>...</th>\n",
       "      <th>innis</th>\n",
       "      <th>csula</th>\n",
       "      <th>iskandar</th>\n",
       "      <th>witwit</th>\n",
       "      <th>sihha</th>\n",
       "      <th>amro</th>\n",
       "      <th>meudt</th>\n",
       "      <th>bloodletting</th>\n",
       "      <th>qatari</th>\n",
       "      <th>chmaytelli</th>\n",
       "    </tr>\n",
       "  </thead>\n",
       "  <tbody>\n",
       "    <tr>\n",
       "      <td>0</td>\n",
       "      <td>47</td>\n",
       "      <td>25</td>\n",
       "      <td>8</td>\n",
       "      <td>904</td>\n",
       "      <td>104</td>\n",
       "      <td>559</td>\n",
       "      <td>21</td>\n",
       "      <td>292</td>\n",
       "      <td>57</td>\n",
       "      <td>76</td>\n",
       "      <td>...</td>\n",
       "      <td>0.0</td>\n",
       "      <td>0.0</td>\n",
       "      <td>0.0</td>\n",
       "      <td>0.0</td>\n",
       "      <td>0.0</td>\n",
       "      <td>0.0</td>\n",
       "      <td>0.0</td>\n",
       "      <td>0.0</td>\n",
       "      <td>0.0</td>\n",
       "      <td>0.0</td>\n",
       "    </tr>\n",
       "    <tr>\n",
       "      <td>1</td>\n",
       "      <td>63</td>\n",
       "      <td>21</td>\n",
       "      <td>5</td>\n",
       "      <td>919</td>\n",
       "      <td>105</td>\n",
       "      <td>624</td>\n",
       "      <td>27</td>\n",
       "      <td>317</td>\n",
       "      <td>63</td>\n",
       "      <td>45</td>\n",
       "      <td>...</td>\n",
       "      <td>1.0</td>\n",
       "      <td>1.0</td>\n",
       "      <td>1.0</td>\n",
       "      <td>1.0</td>\n",
       "      <td>1.0</td>\n",
       "      <td>1.0</td>\n",
       "      <td>1.0</td>\n",
       "      <td>1.0</td>\n",
       "      <td>1.0</td>\n",
       "      <td>1.0</td>\n",
       "    </tr>\n",
       "  </tbody>\n",
       "</table>\n",
       "<p>2 rows × 38707 columns</p>\n",
       "</div>"
      ],
      "text/plain": [
       "   npr  invited  observe  two  focus  group  swing  voter  ohio  arizona  ...  \\\n",
       "0   47       25        8  904    104    559     21    292    57       76  ...   \n",
       "1   63       21        5  919    105    624     27    317    63       45  ...   \n",
       "\n",
       "   innis  csula  iskandar  witwit  sihha  amro  meudt  bloodletting  qatari  \\\n",
       "0    0.0    0.0       0.0     0.0    0.0   0.0    0.0           0.0     0.0   \n",
       "1    1.0    1.0       1.0     1.0    1.0   1.0    1.0           1.0     1.0   \n",
       "\n",
       "   chmaytelli  \n",
       "0         0.0  \n",
       "1         1.0  \n",
       "\n",
       "[2 rows x 38707 columns]"
      ]
     },
     "execution_count": 256,
     "metadata": {},
     "output_type": "execute_result"
    }
   ],
   "source": [
    "df.head()"
   ]
  },
  {
   "cell_type": "code",
   "execution_count": 259,
   "metadata": {},
   "outputs": [],
   "source": [
    "df['y']=[0,1]"
   ]
  },
  {
   "cell_type": "code",
   "execution_count": 260,
   "metadata": {},
   "outputs": [
    {
     "data": {
      "text/html": [
       "<div>\n",
       "<style scoped>\n",
       "    .dataframe tbody tr th:only-of-type {\n",
       "        vertical-align: middle;\n",
       "    }\n",
       "\n",
       "    .dataframe tbody tr th {\n",
       "        vertical-align: top;\n",
       "    }\n",
       "\n",
       "    .dataframe thead th {\n",
       "        text-align: right;\n",
       "    }\n",
       "</style>\n",
       "<table border=\"1\" class=\"dataframe\">\n",
       "  <thead>\n",
       "    <tr style=\"text-align: right;\">\n",
       "      <th></th>\n",
       "      <th>npr</th>\n",
       "      <th>invited</th>\n",
       "      <th>observe</th>\n",
       "      <th>two</th>\n",
       "      <th>focus</th>\n",
       "      <th>group</th>\n",
       "      <th>swing</th>\n",
       "      <th>voter</th>\n",
       "      <th>ohio</th>\n",
       "      <th>arizona</th>\n",
       "      <th>...</th>\n",
       "      <th>csula</th>\n",
       "      <th>iskandar</th>\n",
       "      <th>witwit</th>\n",
       "      <th>sihha</th>\n",
       "      <th>amro</th>\n",
       "      <th>meudt</th>\n",
       "      <th>bloodletting</th>\n",
       "      <th>qatari</th>\n",
       "      <th>chmaytelli</th>\n",
       "      <th>y</th>\n",
       "    </tr>\n",
       "  </thead>\n",
       "  <tbody>\n",
       "    <tr>\n",
       "      <td>0</td>\n",
       "      <td>47</td>\n",
       "      <td>25</td>\n",
       "      <td>8</td>\n",
       "      <td>904</td>\n",
       "      <td>104</td>\n",
       "      <td>559</td>\n",
       "      <td>21</td>\n",
       "      <td>292</td>\n",
       "      <td>57</td>\n",
       "      <td>76</td>\n",
       "      <td>...</td>\n",
       "      <td>0.0</td>\n",
       "      <td>0.0</td>\n",
       "      <td>0.0</td>\n",
       "      <td>0.0</td>\n",
       "      <td>0.0</td>\n",
       "      <td>0.0</td>\n",
       "      <td>0.0</td>\n",
       "      <td>0.0</td>\n",
       "      <td>0.0</td>\n",
       "      <td>0</td>\n",
       "    </tr>\n",
       "    <tr>\n",
       "      <td>1</td>\n",
       "      <td>63</td>\n",
       "      <td>21</td>\n",
       "      <td>5</td>\n",
       "      <td>919</td>\n",
       "      <td>105</td>\n",
       "      <td>624</td>\n",
       "      <td>27</td>\n",
       "      <td>317</td>\n",
       "      <td>63</td>\n",
       "      <td>45</td>\n",
       "      <td>...</td>\n",
       "      <td>1.0</td>\n",
       "      <td>1.0</td>\n",
       "      <td>1.0</td>\n",
       "      <td>1.0</td>\n",
       "      <td>1.0</td>\n",
       "      <td>1.0</td>\n",
       "      <td>1.0</td>\n",
       "      <td>1.0</td>\n",
       "      <td>1.0</td>\n",
       "      <td>1</td>\n",
       "    </tr>\n",
       "  </tbody>\n",
       "</table>\n",
       "<p>2 rows × 38708 columns</p>\n",
       "</div>"
      ],
      "text/plain": [
       "   npr  invited  observe  two  focus  group  swing  voter  ohio  arizona  ...  \\\n",
       "0   47       25        8  904    104    559     21    292    57       76  ...   \n",
       "1   63       21        5  919    105    624     27    317    63       45  ...   \n",
       "\n",
       "   csula  iskandar  witwit  sihha  amro  meudt  bloodletting  qatari  \\\n",
       "0    0.0       0.0     0.0    0.0   0.0    0.0           0.0     0.0   \n",
       "1    1.0       1.0     1.0    1.0   1.0    1.0           1.0     1.0   \n",
       "\n",
       "   chmaytelli  y  \n",
       "0         0.0  0  \n",
       "1         1.0  1  \n",
       "\n",
       "[2 rows x 38708 columns]"
      ]
     },
     "execution_count": 260,
     "metadata": {},
     "output_type": "execute_result"
    }
   ],
   "source": [
    "df.head()"
   ]
  },
  {
   "cell_type": "code",
   "execution_count": 257,
   "metadata": {},
   "outputs": [],
   "source": [
    "from sklearn.naive_bayes import MultinomialNB"
   ]
  },
  {
   "cell_type": "code",
   "execution_count": 258,
   "metadata": {},
   "outputs": [],
   "source": [
    "classifier =MultinomialNB()"
   ]
  },
  {
   "cell_type": "code",
   "execution_count": 268,
   "metadata": {},
   "outputs": [
    {
     "data": {
      "text/plain": [
       "MultinomialNB(alpha=1.0, class_prior=None, fit_prior=True)"
      ]
     },
     "execution_count": 268,
     "metadata": {},
     "output_type": "execute_result"
    }
   ],
   "source": [
    "# df[df.columns[-1]]\n",
    "# df[df.columns[:-1]] \n",
    "classifier.fit(df[df.columns[:-1]] , df[df.columns[-1]])"
   ]
  },
  {
   "cell_type": "code",
   "execution_count": 270,
   "metadata": {},
   "outputs": [],
   "source": [
    "check=\"â€™  â€™ â€™   A Fox News poll released Friday confirmed what  in the   aftermath of the first presidential debate: Hillary Clinton   prevailed over Donald Trump in the affair, and she has seen a   slight overall national bump because of it. â€™ â€™   The poll, which was conducted entirely after the debate, found   that 61% of voters who watched the debate viewed Clinton as the   winner. Just 21% thought Trump came out on top. â€™ â€™   Clinton also experienced a slight improvement among likely voters   nationally, according to the poll. She was up 5 points in a      matchup, 49% to 44% and 3 points in a   race   that included Libertarian nominee Gary Johnson and Green Party   nominee Jill Stein. â€™ â€™   Both were improvements for Clinton from the previous Fox News   survey,  in a     race and trailing by 1 in the   matchup. â€™ â€™   The Fox News survey is especially noteworthy because of the way    to   online,     polls to make the case that   Trump came out of the debate victorious. The Trump campaign and   its surrogates have also cited those online polls to claim   victory. â€™ â€™â€™ â€™   Dana Blanton, the vice president of   research at   Fox News,  to remind them that online polls   â€do not meet our editorial standards.â€ Host Sean Hannity, a   vehement Trump supporter, has continued to cite such polls   despite the memo. â€™ â€   Respondents from at least five other polls  â€”   from       Consult,   Public   Policy Polling, and Gallup  â€”   have all declared Clinton the   winner. Gallup  Clintonâ€™s perceived debate win to   be among the largest in modern campaign history. â€ â€™   The Fox News poll released Friday surveyed 1, 009 registered   voters from September 27 to 29. â€™\""
   ]
  },
  {
   "cell_type": "code",
   "execution_count": 271,
   "metadata": {},
   "outputs": [],
   "source": [
    "cleaned = cleaningbody(check)"
   ]
  },
  {
   "cell_type": "code",
   "execution_count": 283,
   "metadata": {},
   "outputs": [
    {
     "data": {
      "text/plain": [
       "'fox news poll released friday confirmed aftermath first presidential debate hillary clinton prevailed donald trump affair seen slight overall national bump poll conducted entirely debate found voter watched debate viewed clinton winner thought trump came top clinton also experienced slight improvement among likely voter nationally according poll point matchup point race included libertarian nominee gary johnson green party nominee jill stein improvement clinton previous fox news survey race trailing matchup fox news survey especially noteworthy way online poll make case trump came debate victorious trump campaign surrogate also cited online poll claim victory dana blanton vice president research fox news remind online poll meet editorial standard host sean hannity vehement trump supporter continued cite poll despite memo respondent least five poll consult public policy polling gallup declared clinton winner gallup clinton perceived debate win among largest modern campaign history fox news poll released friday surveyed registered voter september'"
      ]
     },
     "execution_count": 283,
     "metadata": {},
     "output_type": "execute_result"
    }
   ],
   "source": [
    "cleaned"
   ]
  },
  {
   "cell_type": "code",
   "execution_count": 284,
   "metadata": {},
   "outputs": [],
   "source": [
    "d =Counter(cleaned.split())"
   ]
  },
  {
   "cell_type": "code",
   "execution_count": 285,
   "metadata": {},
   "outputs": [],
   "source": [
    "word_count_dict =dict(d)\n",
    "df3 = pd.DataFrame(word_count_dict,index=[0])"
   ]
  },
  {
   "cell_type": "code",
   "execution_count": 286,
   "metadata": {},
   "outputs": [
    {
     "data": {
      "text/html": [
       "<div>\n",
       "<style scoped>\n",
       "    .dataframe tbody tr th:only-of-type {\n",
       "        vertical-align: middle;\n",
       "    }\n",
       "\n",
       "    .dataframe tbody tr th {\n",
       "        vertical-align: top;\n",
       "    }\n",
       "\n",
       "    .dataframe thead th {\n",
       "        text-align: right;\n",
       "    }\n",
       "</style>\n",
       "<table border=\"1\" class=\"dataframe\">\n",
       "  <thead>\n",
       "    <tr style=\"text-align: right;\">\n",
       "      <th></th>\n",
       "      <th>fox</th>\n",
       "      <th>news</th>\n",
       "      <th>poll</th>\n",
       "      <th>released</th>\n",
       "      <th>friday</th>\n",
       "      <th>confirmed</th>\n",
       "      <th>aftermath</th>\n",
       "      <th>first</th>\n",
       "      <th>presidential</th>\n",
       "      <th>debate</th>\n",
       "      <th>...</th>\n",
       "      <th>gallup</th>\n",
       "      <th>declared</th>\n",
       "      <th>perceived</th>\n",
       "      <th>win</th>\n",
       "      <th>largest</th>\n",
       "      <th>modern</th>\n",
       "      <th>history</th>\n",
       "      <th>surveyed</th>\n",
       "      <th>registered</th>\n",
       "      <th>september</th>\n",
       "    </tr>\n",
       "  </thead>\n",
       "  <tbody>\n",
       "    <tr>\n",
       "      <td>0</td>\n",
       "      <td>5</td>\n",
       "      <td>5</td>\n",
       "      <td>9</td>\n",
       "      <td>2</td>\n",
       "      <td>2</td>\n",
       "      <td>1</td>\n",
       "      <td>1</td>\n",
       "      <td>1</td>\n",
       "      <td>1</td>\n",
       "      <td>5</td>\n",
       "      <td>...</td>\n",
       "      <td>2</td>\n",
       "      <td>1</td>\n",
       "      <td>1</td>\n",
       "      <td>1</td>\n",
       "      <td>1</td>\n",
       "      <td>1</td>\n",
       "      <td>1</td>\n",
       "      <td>1</td>\n",
       "      <td>1</td>\n",
       "      <td>1</td>\n",
       "    </tr>\n",
       "  </tbody>\n",
       "</table>\n",
       "<p>1 rows × 100 columns</p>\n",
       "</div>"
      ],
      "text/plain": [
       "   fox  news  poll  released  friday  confirmed  aftermath  first  \\\n",
       "0    5     5     9         2       2          1          1      1   \n",
       "\n",
       "   presidential  debate  ...  gallup  declared  perceived  win  largest  \\\n",
       "0             1       5  ...       2         1          1    1        1   \n",
       "\n",
       "   modern  history  surveyed  registered  september  \n",
       "0       1        1         1           1          1  \n",
       "\n",
       "[1 rows x 100 columns]"
      ]
     },
     "execution_count": 286,
     "metadata": {},
     "output_type": "execute_result"
    }
   ],
   "source": [
    "df3"
   ]
  },
  {
   "cell_type": "code",
   "execution_count": 293,
   "metadata": {},
   "outputs": [],
   "source": [
    "y=df.y\n",
    "df=df.drop('y',axis=1)\n",
    "from sklearn.feature_extraction.text import CountVectorizer\n",
    "vectorizer =CountVectorizer()\n",
    "trainx=vectorizer.fit_transform(df)\n",
    "testx=vectorizer.transform(df3)"
   ]
  },
  {
   "cell_type": "code",
   "execution_count": 294,
   "metadata": {},
   "outputs": [
    {
     "data": {
      "text/plain": [
       "(38707, 38684)"
      ]
     },
     "execution_count": 294,
     "metadata": {},
     "output_type": "execute_result"
    }
   ],
   "source": [
    "trainx.shape"
   ]
  },
  {
   "cell_type": "code",
   "execution_count": 295,
   "metadata": {},
   "outputs": [
    {
     "data": {
      "text/plain": [
       "(100, 38684)"
      ]
     },
     "execution_count": 295,
     "metadata": {},
     "output_type": "execute_result"
    }
   ],
   "source": [
    "testx.shape"
   ]
  },
  {
   "cell_type": "code",
   "execution_count": 296,
   "metadata": {},
   "outputs": [],
   "source": [
    "from sklearn.naive_bayes import MultinomialNB\n",
    "classifier =MultinomialNB()"
   ]
  },
  {
   "cell_type": "code",
   "execution_count": null,
   "metadata": {},
   "outputs": [],
   "source": [
    "classifier.fit(trainx,ytrain)"
   ]
  },
  {
   "cell_type": "code",
   "execution_count": null,
   "metadata": {},
   "outputs": [],
   "source": []
  },
  {
   "cell_type": "code",
   "execution_count": null,
   "metadata": {},
   "outputs": [],
   "source": []
  },
  {
   "cell_type": "code",
   "execution_count": null,
   "metadata": {},
   "outputs": [],
   "source": []
  },
  {
   "cell_type": "code",
   "execution_count": null,
   "metadata": {},
   "outputs": [],
   "source": []
  },
  {
   "cell_type": "code",
   "execution_count": null,
   "metadata": {},
   "outputs": [],
   "source": []
  },
  {
   "cell_type": "code",
   "execution_count": 240,
   "metadata": {},
   "outputs": [],
   "source": [
    "\n",
    "\n",
    "\n",
    "# df=pd.concat([df1,df2] ,ignore_index=True, sort=False)\n",
    "# df.head()"
   ]
  },
  {
   "cell_type": "code",
   "execution_count": 162,
   "metadata": {},
   "outputs": [
    {
     "data": {
      "text/html": [
       "<div>\n",
       "<style scoped>\n",
       "    .dataframe tbody tr th:only-of-type {\n",
       "        vertical-align: middle;\n",
       "    }\n",
       "\n",
       "    .dataframe tbody tr th {\n",
       "        vertical-align: top;\n",
       "    }\n",
       "\n",
       "    .dataframe thead th {\n",
       "        text-align: right;\n",
       "    }\n",
       "</style>\n",
       "<table border=\"1\" class=\"dataframe\">\n",
       "  <thead>\n",
       "    <tr style=\"text-align: right;\">\n",
       "      <th></th>\n",
       "      <th>0</th>\n",
       "      <th>1</th>\n",
       "      <th>2</th>\n",
       "      <th>3</th>\n",
       "      <th>4</th>\n",
       "      <th>5</th>\n",
       "      <th>6</th>\n",
       "      <th>7</th>\n",
       "      <th>8</th>\n",
       "      <th>9</th>\n",
       "      <th>...</th>\n",
       "      <th>28389</th>\n",
       "      <th>28390</th>\n",
       "      <th>28391</th>\n",
       "      <th>28392</th>\n",
       "      <th>28393</th>\n",
       "      <th>28394</th>\n",
       "      <th>28395</th>\n",
       "      <th>28396</th>\n",
       "      <th>28397</th>\n",
       "      <th>28398</th>\n",
       "    </tr>\n",
       "  </thead>\n",
       "  <tbody>\n",
       "    <tr>\n",
       "      <td>word</td>\n",
       "      <td>western</td>\n",
       "      <td>music</td>\n",
       "      <td>may</td>\n",
       "      <td>changing</td>\n",
       "      <td>world</td>\n",
       "      <td>happened</td>\n",
       "      <td>russia</td>\n",
       "      <td>luck</td>\n",
       "      <td>state</td>\n",
       "      <td>censorship</td>\n",
       "      <td>...</td>\n",
       "      <td>mallika</td>\n",
       "      <td>lanka</td>\n",
       "      <td>sinhalese</td>\n",
       "      <td>multilingual</td>\n",
       "      <td>revoking</td>\n",
       "      <td>criminalization</td>\n",
       "      <td>picturesque</td>\n",
       "      <td>cambridgeshire</td>\n",
       "      <td>overhearing</td>\n",
       "      <td>domesday</td>\n",
       "    </tr>\n",
       "    <tr>\n",
       "      <td>count</td>\n",
       "      <td>86</td>\n",
       "      <td>118</td>\n",
       "      <td>606</td>\n",
       "      <td>41</td>\n",
       "      <td>563</td>\n",
       "      <td>146</td>\n",
       "      <td>237</td>\n",
       "      <td>15</td>\n",
       "      <td>1528</td>\n",
       "      <td>6</td>\n",
       "      <td>...</td>\n",
       "      <td>4</td>\n",
       "      <td>1</td>\n",
       "      <td>1</td>\n",
       "      <td>1</td>\n",
       "      <td>1</td>\n",
       "      <td>1</td>\n",
       "      <td>1</td>\n",
       "      <td>1</td>\n",
       "      <td>1</td>\n",
       "      <td>1</td>\n",
       "    </tr>\n",
       "  </tbody>\n",
       "</table>\n",
       "<p>2 rows × 28399 columns</p>\n",
       "</div>"
      ],
      "text/plain": [
       "         0      1     2         3      4         5       6     7      8      \\\n",
       "word   western  music   may  changing  world  happened  russia  luck  state   \n",
       "count       86    118   606        41    563       146     237    15   1528   \n",
       "\n",
       "            9      ...    28389  28390      28391         28392     28393  \\\n",
       "word   censorship  ...  mallika  lanka  sinhalese  multilingual  revoking   \n",
       "count           6  ...        4      1          1             1         1   \n",
       "\n",
       "                 28394        28395           28396        28397     28398  \n",
       "word   criminalization  picturesque  cambridgeshire  overhearing  domesday  \n",
       "count                1            1               1            1         1  \n",
       "\n",
       "[2 rows x 28399 columns]"
      ]
     },
     "execution_count": 162,
     "metadata": {},
     "output_type": "execute_result"
    }
   ],
   "source": [
    "df2.head()"
   ]
  },
  {
   "cell_type": "code",
   "execution_count": 169,
   "metadata": {},
   "outputs": [
    {
     "data": {
      "text/html": [
       "<div>\n",
       "<style scoped>\n",
       "    .dataframe tbody tr th:only-of-type {\n",
       "        vertical-align: middle;\n",
       "    }\n",
       "\n",
       "    .dataframe tbody tr th {\n",
       "        vertical-align: top;\n",
       "    }\n",
       "\n",
       "    .dataframe thead th {\n",
       "        text-align: right;\n",
       "    }\n",
       "</style>\n",
       "<table border=\"1\" class=\"dataframe\">\n",
       "  <thead>\n",
       "    <tr style=\"text-align: right;\">\n",
       "      <th></th>\n",
       "      <th>0</th>\n",
       "      <th>1</th>\n",
       "      <th>2</th>\n",
       "      <th>3</th>\n",
       "      <th>4</th>\n",
       "      <th>5</th>\n",
       "      <th>6</th>\n",
       "      <th>7</th>\n",
       "      <th>8</th>\n",
       "      <th>9</th>\n",
       "      <th>...</th>\n",
       "      <th>28389</th>\n",
       "      <th>28390</th>\n",
       "      <th>28391</th>\n",
       "      <th>28392</th>\n",
       "      <th>28393</th>\n",
       "      <th>28394</th>\n",
       "      <th>28395</th>\n",
       "      <th>28396</th>\n",
       "      <th>28397</th>\n",
       "      <th>28398</th>\n",
       "    </tr>\n",
       "  </thead>\n",
       "  <tbody>\n",
       "    <tr>\n",
       "      <td>0</td>\n",
       "      <td>robotic</td>\n",
       "      <td>technology</td>\n",
       "      <td>rapidly</td>\n",
       "      <td>advance</td>\n",
       "      <td>scientist</td>\n",
       "      <td>look</td>\n",
       "      <td>improve</td>\n",
       "      <td>synthetic</td>\n",
       "      <td>smart</td>\n",
       "      <td>skin</td>\n",
       "      <td>...</td>\n",
       "      <td>NaN</td>\n",
       "      <td>NaN</td>\n",
       "      <td>NaN</td>\n",
       "      <td>NaN</td>\n",
       "      <td>NaN</td>\n",
       "      <td>NaN</td>\n",
       "      <td>NaN</td>\n",
       "      <td>NaN</td>\n",
       "      <td>NaN</td>\n",
       "      <td>NaN</td>\n",
       "    </tr>\n",
       "    <tr>\n",
       "      <td>1</td>\n",
       "      <td>2</td>\n",
       "      <td>96</td>\n",
       "      <td>25</td>\n",
       "      <td>51</td>\n",
       "      <td>68</td>\n",
       "      <td>335</td>\n",
       "      <td>38</td>\n",
       "      <td>2</td>\n",
       "      <td>50</td>\n",
       "      <td>30</td>\n",
       "      <td>...</td>\n",
       "      <td>NaN</td>\n",
       "      <td>NaN</td>\n",
       "      <td>NaN</td>\n",
       "      <td>NaN</td>\n",
       "      <td>NaN</td>\n",
       "      <td>NaN</td>\n",
       "      <td>NaN</td>\n",
       "      <td>NaN</td>\n",
       "      <td>NaN</td>\n",
       "      <td>NaN</td>\n",
       "    </tr>\n",
       "    <tr>\n",
       "      <td>2</td>\n",
       "      <td>western</td>\n",
       "      <td>music</td>\n",
       "      <td>may</td>\n",
       "      <td>changing</td>\n",
       "      <td>world</td>\n",
       "      <td>happened</td>\n",
       "      <td>russia</td>\n",
       "      <td>luck</td>\n",
       "      <td>state</td>\n",
       "      <td>censorship</td>\n",
       "      <td>...</td>\n",
       "      <td>mallika</td>\n",
       "      <td>lanka</td>\n",
       "      <td>sinhalese</td>\n",
       "      <td>multilingual</td>\n",
       "      <td>revoking</td>\n",
       "      <td>criminalization</td>\n",
       "      <td>picturesque</td>\n",
       "      <td>cambridgeshire</td>\n",
       "      <td>overhearing</td>\n",
       "      <td>domesday</td>\n",
       "    </tr>\n",
       "    <tr>\n",
       "      <td>3</td>\n",
       "      <td>86</td>\n",
       "      <td>118</td>\n",
       "      <td>606</td>\n",
       "      <td>41</td>\n",
       "      <td>563</td>\n",
       "      <td>146</td>\n",
       "      <td>237</td>\n",
       "      <td>15</td>\n",
       "      <td>1528</td>\n",
       "      <td>6</td>\n",
       "      <td>...</td>\n",
       "      <td>4</td>\n",
       "      <td>1</td>\n",
       "      <td>1</td>\n",
       "      <td>1</td>\n",
       "      <td>1</td>\n",
       "      <td>1</td>\n",
       "      <td>1</td>\n",
       "      <td>1</td>\n",
       "      <td>1</td>\n",
       "      <td>1</td>\n",
       "    </tr>\n",
       "  </tbody>\n",
       "</table>\n",
       "<p>4 rows × 28399 columns</p>\n",
       "</div>"
      ],
      "text/plain": [
       "     0           1        2         3          4         5        6      \\\n",
       "0  robotic  technology  rapidly   advance  scientist      look  improve   \n",
       "1        2          96       25        51         68       335       38   \n",
       "2  western       music      may  changing      world  happened   russia   \n",
       "3       86         118      606        41        563       146      237   \n",
       "\n",
       "       7      8           9      ...    28389  28390      28391         28392  \\\n",
       "0  synthetic  smart        skin  ...      NaN    NaN        NaN           NaN   \n",
       "1          2     50          30  ...      NaN    NaN        NaN           NaN   \n",
       "2       luck  state  censorship  ...  mallika  lanka  sinhalese  multilingual   \n",
       "3         15   1528           6  ...        4      1          1             1   \n",
       "\n",
       "      28393            28394        28395           28396        28397  \\\n",
       "0       NaN              NaN          NaN             NaN          NaN   \n",
       "1       NaN              NaN          NaN             NaN          NaN   \n",
       "2  revoking  criminalization  picturesque  cambridgeshire  overhearing   \n",
       "3         1                1            1               1            1   \n",
       "\n",
       "      28398  \n",
       "0       NaN  \n",
       "1       NaN  \n",
       "2  domesday  \n",
       "3         1  \n",
       "\n",
       "[4 rows x 28399 columns]"
      ]
     },
     "execution_count": 169,
     "metadata": {},
     "output_type": "execute_result"
    }
   ],
   "source": [
    "df=pd.concat([df1,df2] ,ignore_index=True, sort=False,axis=0)\n",
    "df.head()"
   ]
  },
  {
   "cell_type": "code",
   "execution_count": 166,
   "metadata": {},
   "outputs": [],
   "source": [
    "# df.head()"
   ]
  },
  {
   "cell_type": "code",
   "execution_count": 170,
   "metadata": {},
   "outputs": [
    {
     "data": {
      "text/plain": [
       "RangeIndex(start=0, stop=27286, step=1)"
      ]
     },
     "execution_count": 170,
     "metadata": {},
     "output_type": "execute_result"
    }
   ],
   "source": [
    "df1.columns"
   ]
  },
  {
   "cell_type": "code",
   "execution_count": null,
   "metadata": {},
   "outputs": [],
   "source": []
  },
  {
   "cell_type": "code",
   "execution_count": null,
   "metadata": {},
   "outputs": [],
   "source": []
  },
  {
   "cell_type": "code",
   "execution_count": 134,
   "metadata": {},
   "outputs": [
    {
     "data": {
      "text/plain": [
       "RangeIndex(start=0, stop=27286, step=1)"
      ]
     },
     "execution_count": 134,
     "metadata": {},
     "output_type": "execute_result"
    }
   ],
   "source": [
    "df1.columns"
   ]
  },
  {
   "cell_type": "code",
   "execution_count": null,
   "metadata": {},
   "outputs": [],
   "source": []
  },
  {
   "cell_type": "code",
   "execution_count": null,
   "metadata": {},
   "outputs": [],
   "source": []
  },
  {
   "cell_type": "code",
   "execution_count": null,
   "metadata": {},
   "outputs": [],
   "source": []
  },
  {
   "cell_type": "code",
   "execution_count": null,
   "metadata": {},
   "outputs": [],
   "source": []
  },
  {
   "cell_type": "code",
   "execution_count": null,
   "metadata": {},
   "outputs": [],
   "source": []
  },
  {
   "cell_type": "code",
   "execution_count": null,
   "metadata": {},
   "outputs": [],
   "source": []
  },
  {
   "cell_type": "code",
   "execution_count": null,
   "metadata": {},
   "outputs": [],
   "source": []
  },
  {
   "cell_type": "code",
   "execution_count": 97,
   "metadata": {},
   "outputs": [],
   "source": [
    "smallerset_real_count=path_base_modified+\"smallerset_real_count.csv\"\n",
    "df.to_csv(smallerset_real_count,index=False,encoding=\"utf8\")"
   ]
  },
  {
   "cell_type": "code",
   "execution_count": null,
   "metadata": {},
   "outputs": [],
   "source": []
  },
  {
   "cell_type": "code",
   "execution_count": null,
   "metadata": {},
   "outputs": [],
   "source": []
  },
  {
   "cell_type": "code",
   "execution_count": null,
   "metadata": {},
   "outputs": [],
   "source": []
  },
  {
   "cell_type": "code",
   "execution_count": 24,
   "metadata": {},
   "outputs": [],
   "source": [
    "from sklearn.feature_extraction.text import CountVectorizer"
   ]
  },
  {
   "cell_type": "code",
   "execution_count": 58,
   "metadata": {},
   "outputs": [],
   "source": [
    "vectorizer =CountVectorizer(analyzer=\"word\", max_features=100)\n",
    "real_data_features =vectorizer.fit_transform(real_tokens)"
   ]
  },
  {
   "cell_type": "code",
   "execution_count": 59,
   "metadata": {},
   "outputs": [
    {
     "ename": "NameError",
     "evalue": "name 'df_total' is not defined",
     "output_type": "error",
     "traceback": [
      "\u001b[1;31m---------------------------------------------------------------------------\u001b[0m",
      "\u001b[1;31mNameError\u001b[0m                                 Traceback (most recent call last)",
      "\u001b[1;32m<ipython-input-59-9fecfdbf52b6>\u001b[0m in \u001b[0;36m<module>\u001b[1;34m\u001b[0m\n\u001b[1;32m----> 1\u001b[1;33m \u001b[1;32mdel\u001b[0m \u001b[0mdf_total\u001b[0m\u001b[1;33m\u001b[0m\u001b[1;33m\u001b[0m\u001b[0m\n\u001b[0m\u001b[0;32m      2\u001b[0m \u001b[1;32mdel\u001b[0m \u001b[0mdf_real_sample\u001b[0m\u001b[1;33m\u001b[0m\u001b[1;33m\u001b[0m\u001b[0m\n\u001b[0;32m      3\u001b[0m \u001b[1;32mdel\u001b[0m \u001b[0mdf_fake_sample\u001b[0m\u001b[1;33m\u001b[0m\u001b[1;33m\u001b[0m\u001b[0m\n",
      "\u001b[1;31mNameError\u001b[0m: name 'df_total' is not defined"
     ]
    }
   ],
   "source": [
    "del df_total\n",
    "del df_real_sample\n",
    "del df_fake_sample"
   ]
  },
  {
   "cell_type": "code",
   "execution_count": 60,
   "metadata": {},
   "outputs": [
    {
     "data": {
      "text/plain": [
       "scipy.sparse.csr.csr_matrix"
      ]
     },
     "execution_count": 60,
     "metadata": {},
     "output_type": "execute_result"
    }
   ],
   "source": [
    "type(real_data_features)\n",
    "\n",
    "# real_word_counter  =real_data_features.toarray()"
   ]
  },
  {
   "cell_type": "code",
   "execution_count": 61,
   "metadata": {},
   "outputs": [
    {
     "data": {
      "text/plain": [
       "<391189x100 sparse matrix of type '<class 'numpy.int64'>'\n",
       "\twith 73494 stored elements in Compressed Sparse Row format>"
      ]
     },
     "execution_count": 61,
     "metadata": {},
     "output_type": "execute_result"
    }
   ],
   "source": [
    "real_data_features"
   ]
  },
  {
   "cell_type": "code",
   "execution_count": 46,
   "metadata": {},
   "outputs": [
    {
     "ename": "MemoryError",
     "evalue": "",
     "output_type": "error",
     "traceback": [
      "\u001b[1;31m---------------------------------------------------------------------------\u001b[0m",
      "\u001b[1;31mMemoryError\u001b[0m                               Traceback (most recent call last)",
      "\u001b[1;32m<ipython-input-46-bd1d92bc78bc>\u001b[0m in \u001b[0;36m<module>\u001b[1;34m\u001b[0m\n\u001b[1;32m----> 1\u001b[1;33m \u001b[0mreal_word_counter\u001b[0m  \u001b[1;33m=\u001b[0m\u001b[0mreal_data_features\u001b[0m\u001b[1;33m.\u001b[0m\u001b[0mtoarray\u001b[0m\u001b[1;33m(\u001b[0m\u001b[1;33m)\u001b[0m\u001b[1;33m\u001b[0m\u001b[1;33m\u001b[0m\u001b[0m\n\u001b[0m",
      "\u001b[1;32mD:\\SETUP_FILES_2\\Anaconda3\\lib\\site-packages\\scipy\\sparse\\compressed.py\u001b[0m in \u001b[0;36mtoarray\u001b[1;34m(self, order, out)\u001b[0m\n\u001b[0;32m   1022\u001b[0m         \u001b[1;32mif\u001b[0m \u001b[0mout\u001b[0m \u001b[1;32mis\u001b[0m \u001b[1;32mNone\u001b[0m \u001b[1;32mand\u001b[0m \u001b[0morder\u001b[0m \u001b[1;32mis\u001b[0m \u001b[1;32mNone\u001b[0m\u001b[1;33m:\u001b[0m\u001b[1;33m\u001b[0m\u001b[1;33m\u001b[0m\u001b[0m\n\u001b[0;32m   1023\u001b[0m             \u001b[0morder\u001b[0m \u001b[1;33m=\u001b[0m \u001b[0mself\u001b[0m\u001b[1;33m.\u001b[0m\u001b[0m_swap\u001b[0m\u001b[1;33m(\u001b[0m\u001b[1;34m'cf'\u001b[0m\u001b[1;33m)\u001b[0m\u001b[1;33m[\u001b[0m\u001b[1;36m0\u001b[0m\u001b[1;33m]\u001b[0m\u001b[1;33m\u001b[0m\u001b[1;33m\u001b[0m\u001b[0m\n\u001b[1;32m-> 1024\u001b[1;33m         \u001b[0mout\u001b[0m \u001b[1;33m=\u001b[0m \u001b[0mself\u001b[0m\u001b[1;33m.\u001b[0m\u001b[0m_process_toarray_args\u001b[0m\u001b[1;33m(\u001b[0m\u001b[0morder\u001b[0m\u001b[1;33m,\u001b[0m \u001b[0mout\u001b[0m\u001b[1;33m)\u001b[0m\u001b[1;33m\u001b[0m\u001b[1;33m\u001b[0m\u001b[0m\n\u001b[0m\u001b[0;32m   1025\u001b[0m         \u001b[1;32mif\u001b[0m \u001b[1;32mnot\u001b[0m \u001b[1;33m(\u001b[0m\u001b[0mout\u001b[0m\u001b[1;33m.\u001b[0m\u001b[0mflags\u001b[0m\u001b[1;33m.\u001b[0m\u001b[0mc_contiguous\u001b[0m \u001b[1;32mor\u001b[0m \u001b[0mout\u001b[0m\u001b[1;33m.\u001b[0m\u001b[0mflags\u001b[0m\u001b[1;33m.\u001b[0m\u001b[0mf_contiguous\u001b[0m\u001b[1;33m)\u001b[0m\u001b[1;33m:\u001b[0m\u001b[1;33m\u001b[0m\u001b[1;33m\u001b[0m\u001b[0m\n\u001b[0;32m   1026\u001b[0m             \u001b[1;32mraise\u001b[0m \u001b[0mValueError\u001b[0m\u001b[1;33m(\u001b[0m\u001b[1;34m'Output array must be C or F contiguous'\u001b[0m\u001b[1;33m)\u001b[0m\u001b[1;33m\u001b[0m\u001b[1;33m\u001b[0m\u001b[0m\n",
      "\u001b[1;32mD:\\SETUP_FILES_2\\Anaconda3\\lib\\site-packages\\scipy\\sparse\\base.py\u001b[0m in \u001b[0;36m_process_toarray_args\u001b[1;34m(self, order, out)\u001b[0m\n\u001b[0;32m   1184\u001b[0m             \u001b[1;32mreturn\u001b[0m \u001b[0mout\u001b[0m\u001b[1;33m\u001b[0m\u001b[1;33m\u001b[0m\u001b[0m\n\u001b[0;32m   1185\u001b[0m         \u001b[1;32melse\u001b[0m\u001b[1;33m:\u001b[0m\u001b[1;33m\u001b[0m\u001b[1;33m\u001b[0m\u001b[0m\n\u001b[1;32m-> 1186\u001b[1;33m             \u001b[1;32mreturn\u001b[0m \u001b[0mnp\u001b[0m\u001b[1;33m.\u001b[0m\u001b[0mzeros\u001b[0m\u001b[1;33m(\u001b[0m\u001b[0mself\u001b[0m\u001b[1;33m.\u001b[0m\u001b[0mshape\u001b[0m\u001b[1;33m,\u001b[0m \u001b[0mdtype\u001b[0m\u001b[1;33m=\u001b[0m\u001b[0mself\u001b[0m\u001b[1;33m.\u001b[0m\u001b[0mdtype\u001b[0m\u001b[1;33m,\u001b[0m \u001b[0morder\u001b[0m\u001b[1;33m=\u001b[0m\u001b[0morder\u001b[0m\u001b[1;33m)\u001b[0m\u001b[1;33m\u001b[0m\u001b[1;33m\u001b[0m\u001b[0m\n\u001b[0m\u001b[0;32m   1187\u001b[0m \u001b[1;33m\u001b[0m\u001b[0m\n\u001b[0;32m   1188\u001b[0m \u001b[1;33m\u001b[0m\u001b[0m\n",
      "\u001b[1;31mMemoryError\u001b[0m: "
     ]
    }
   ],
   "source": [
    "#  real_word_counter  =real_data_features.toarray()"
   ]
  },
  {
   "cell_type": "code",
   "execution_count": 62,
   "metadata": {},
   "outputs": [
    {
     "data": {
      "text/plain": [
       "<1x100 sparse matrix of type '<class 'numpy.int64'>'\n",
       "\twith 0 stored elements in Compressed Sparse Row format>"
      ]
     },
     "execution_count": 62,
     "metadata": {},
     "output_type": "execute_result"
    }
   ],
   "source": [
    "real_data_features[1]"
   ]
  },
  {
   "cell_type": "code",
   "execution_count": 63,
   "metadata": {},
   "outputs": [
    {
     "data": {
      "text/plain": [
       "<1x100 sparse matrix of type '<class 'numpy.int64'>'\n",
       "\twith 0 stored elements in Compressed Sparse Row format>"
      ]
     },
     "execution_count": 63,
     "metadata": {},
     "output_type": "execute_result"
    }
   ],
   "source": [
    "real_data_features[1][0]"
   ]
  },
  {
   "cell_type": "code",
   "execution_count": 64,
   "metadata": {},
   "outputs": [
    {
     "data": {
      "text/plain": [
       "<391189x100 sparse matrix of type '<class 'numpy.int64'>'\n",
       "\twith 73494 stored elements in Compressed Sparse Row format>"
      ]
     },
     "execution_count": 64,
     "metadata": {},
     "output_type": "execute_result"
    }
   ],
   "source": [
    "real_data_features"
   ]
  },
  {
   "cell_type": "code",
   "execution_count": 65,
   "metadata": {},
   "outputs": [
    {
     "data": {
      "text/plain": [
       "(391189, 100)"
      ]
     },
     "execution_count": 65,
     "metadata": {},
     "output_type": "execute_result"
    }
   ],
   "source": [
    "real_data_features.shape"
   ]
  },
  {
   "cell_type": "code",
   "execution_count": 67,
   "metadata": {},
   "outputs": [],
   "source": [
    "df_countes =pd.DataFrame(real_data_features.todense())"
   ]
  },
  {
   "cell_type": "code",
   "execution_count": 68,
   "metadata": {},
   "outputs": [],
   "source": [
    "smallerset_real_count=path_base_modified+\"smallerset_real_count.csv\"\n",
    "df_countes.to_csv(smallerset_real_count,index=False,encoding=\"utf8\")"
   ]
  },
  {
   "cell_type": "code",
   "execution_count": null,
   "metadata": {},
   "outputs": [],
   "source": []
  }
 ],
 "metadata": {
  "kernelspec": {
   "display_name": "Python 3",
   "language": "python",
   "name": "python3"
  },
  "language_info": {
   "codemirror_mode": {
    "name": "ipython",
    "version": 3
   },
   "file_extension": ".py",
   "mimetype": "text/x-python",
   "name": "python",
   "nbconvert_exporter": "python",
   "pygments_lexer": "ipython3",
   "version": "3.7.4"
  }
 },
 "nbformat": 4,
 "nbformat_minor": 4
}
